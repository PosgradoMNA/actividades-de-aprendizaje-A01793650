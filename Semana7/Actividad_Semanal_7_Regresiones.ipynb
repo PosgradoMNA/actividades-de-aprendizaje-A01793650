{
  "nbformat": 4,
  "nbformat_minor": 0,
  "metadata": {
    "kernelspec": {
      "display_name": "Python 3",
      "language": "python",
      "name": "python3"
    },
    "language_info": {
      "codemirror_mode": {
        "name": "ipython",
        "version": 3
      },
      "file_extension": ".py",
      "mimetype": "text/x-python",
      "name": "python",
      "nbconvert_exporter": "python",
      "pygments_lexer": "ipython3",
      "version": "3.7.7"
    },
    "colab": {
      "provenance": [],
      "collapsed_sections": []
    },
    "accelerator": "GPU"
  },
  "cells": [
    {
      "cell_type": "markdown",
      "source": [
        "# Actividad Semanal -- 7 Regresiones y K means\n",
        "\n",
        "## Jessica Paola Pulido Vasquez\n",
        "\n",
        "### A01793650\n",
        "\n",
        "**Ciencia de Datos**\n",
        "\n",
        "*Maria de la Paz Rico Fernandez*\n",
        "\n",
        "9 de Noviembre de 2022\n"
      ],
      "metadata": {
        "id": "tDlxCNZtJp8Y"
      }
    },
    {
      "cell_type": "code",
      "metadata": {
        "id": "HMp_I4Y6VQwN"
      },
      "source": [
        "import numpy as np\n",
        "%matplotlib inline\n",
        "import matplotlib\n",
        "import matplotlib.pyplot as plt\n",
        "import pandas as pd\n",
        "import seaborn as sns\n",
        "from sklearn.linear_model import LinearRegression, ridge_regression, Ridge, Lasso\n",
        "from sklearn.preprocessing import PolynomialFeatures\n",
        "from sklearn import metrics\n",
        "from sklearn.metrics import r2_score\n",
        "from sklearn.model_selection import train_test_split\n",
        "# to make this notebook's output stable across runs\n",
        "np.random.seed(42)"
      ],
      "execution_count": 41,
      "outputs": []
    },
    {
      "cell_type": "markdown",
      "metadata": {
        "id": "nTKFj4x9LMXm"
      },
      "source": [
        "# Ejercicio 1\n",
        "## Costo en la industria de manufactura. \n",
        "\n",
        "Ahora realizaremos los ejercicios de regresión utilizando una parte para entrenar y otra para evaluar.\n",
        "Utiliza la base de datos de \n",
        "https://www.kaggle.com/vinicius150987/manufacturing-cost\n",
        "\n",
        "Suponga que trabaja como consultor de una empresa de nueva creación que busca desarrollar un modelo para estimar el costo de los bienes vendidos a medida que varían el volumen de producción (número de unidades producidas). La startup recopiló datos y le pidió que desarrollara un modelo para predecir su costo frente a la cantidad de unidades vendidas."
      ]
    },
    {
      "cell_type": "code",
      "metadata": {
        "colab": {
          "base_uri": "https://localhost:8080/",
          "height": 363
        },
        "id": "oTnErQOkL3oa",
        "outputId": "09f1c46e-653c-4000-f68d-d6522f5c660f"
      },
      "source": [
        "df = pd.read_csv('https://raw.githubusercontent.com/marypazrf/bdd/main/EconomiesOfScale.csv')\n",
        "df.sample(10)"
      ],
      "execution_count": 42,
      "outputs": [
        {
          "output_type": "execute_result",
          "data": {
            "text/plain": [
              "     Number of Units  Manufacturing Cost\n",
              "521         4.518689           38.634483\n",
              "737         5.284690           33.233497\n",
              "740         5.292696           34.550609\n",
              "660         5.030596           34.982985\n",
              "411         4.182289           43.090662\n",
              "678         5.077623           29.087582\n",
              "626         4.925292           39.152161\n",
              "513         4.483809           41.780157\n",
              "859         5.853092           36.344797\n",
              "136         3.049856           54.462176"
            ],
            "text/html": [
              "\n",
              "  <div id=\"df-23575eef-ef42-43f7-a5cf-b2e063a0e126\">\n",
              "    <div class=\"colab-df-container\">\n",
              "      <div>\n",
              "<style scoped>\n",
              "    .dataframe tbody tr th:only-of-type {\n",
              "        vertical-align: middle;\n",
              "    }\n",
              "\n",
              "    .dataframe tbody tr th {\n",
              "        vertical-align: top;\n",
              "    }\n",
              "\n",
              "    .dataframe thead th {\n",
              "        text-align: right;\n",
              "    }\n",
              "</style>\n",
              "<table border=\"1\" class=\"dataframe\">\n",
              "  <thead>\n",
              "    <tr style=\"text-align: right;\">\n",
              "      <th></th>\n",
              "      <th>Number of Units</th>\n",
              "      <th>Manufacturing Cost</th>\n",
              "    </tr>\n",
              "  </thead>\n",
              "  <tbody>\n",
              "    <tr>\n",
              "      <th>521</th>\n",
              "      <td>4.518689</td>\n",
              "      <td>38.634483</td>\n",
              "    </tr>\n",
              "    <tr>\n",
              "      <th>737</th>\n",
              "      <td>5.284690</td>\n",
              "      <td>33.233497</td>\n",
              "    </tr>\n",
              "    <tr>\n",
              "      <th>740</th>\n",
              "      <td>5.292696</td>\n",
              "      <td>34.550609</td>\n",
              "    </tr>\n",
              "    <tr>\n",
              "      <th>660</th>\n",
              "      <td>5.030596</td>\n",
              "      <td>34.982985</td>\n",
              "    </tr>\n",
              "    <tr>\n",
              "      <th>411</th>\n",
              "      <td>4.182289</td>\n",
              "      <td>43.090662</td>\n",
              "    </tr>\n",
              "    <tr>\n",
              "      <th>678</th>\n",
              "      <td>5.077623</td>\n",
              "      <td>29.087582</td>\n",
              "    </tr>\n",
              "    <tr>\n",
              "      <th>626</th>\n",
              "      <td>4.925292</td>\n",
              "      <td>39.152161</td>\n",
              "    </tr>\n",
              "    <tr>\n",
              "      <th>513</th>\n",
              "      <td>4.483809</td>\n",
              "      <td>41.780157</td>\n",
              "    </tr>\n",
              "    <tr>\n",
              "      <th>859</th>\n",
              "      <td>5.853092</td>\n",
              "      <td>36.344797</td>\n",
              "    </tr>\n",
              "    <tr>\n",
              "      <th>136</th>\n",
              "      <td>3.049856</td>\n",
              "      <td>54.462176</td>\n",
              "    </tr>\n",
              "  </tbody>\n",
              "</table>\n",
              "</div>\n",
              "      <button class=\"colab-df-convert\" onclick=\"convertToInteractive('df-23575eef-ef42-43f7-a5cf-b2e063a0e126')\"\n",
              "              title=\"Convert this dataframe to an interactive table.\"\n",
              "              style=\"display:none;\">\n",
              "        \n",
              "  <svg xmlns=\"http://www.w3.org/2000/svg\" height=\"24px\"viewBox=\"0 0 24 24\"\n",
              "       width=\"24px\">\n",
              "    <path d=\"M0 0h24v24H0V0z\" fill=\"none\"/>\n",
              "    <path d=\"M18.56 5.44l.94 2.06.94-2.06 2.06-.94-2.06-.94-.94-2.06-.94 2.06-2.06.94zm-11 1L8.5 8.5l.94-2.06 2.06-.94-2.06-.94L8.5 2.5l-.94 2.06-2.06.94zm10 10l.94 2.06.94-2.06 2.06-.94-2.06-.94-.94-2.06-.94 2.06-2.06.94z\"/><path d=\"M17.41 7.96l-1.37-1.37c-.4-.4-.92-.59-1.43-.59-.52 0-1.04.2-1.43.59L10.3 9.45l-7.72 7.72c-.78.78-.78 2.05 0 2.83L4 21.41c.39.39.9.59 1.41.59.51 0 1.02-.2 1.41-.59l7.78-7.78 2.81-2.81c.8-.78.8-2.07 0-2.86zM5.41 20L4 18.59l7.72-7.72 1.47 1.35L5.41 20z\"/>\n",
              "  </svg>\n",
              "      </button>\n",
              "      \n",
              "  <style>\n",
              "    .colab-df-container {\n",
              "      display:flex;\n",
              "      flex-wrap:wrap;\n",
              "      gap: 12px;\n",
              "    }\n",
              "\n",
              "    .colab-df-convert {\n",
              "      background-color: #E8F0FE;\n",
              "      border: none;\n",
              "      border-radius: 50%;\n",
              "      cursor: pointer;\n",
              "      display: none;\n",
              "      fill: #1967D2;\n",
              "      height: 32px;\n",
              "      padding: 0 0 0 0;\n",
              "      width: 32px;\n",
              "    }\n",
              "\n",
              "    .colab-df-convert:hover {\n",
              "      background-color: #E2EBFA;\n",
              "      box-shadow: 0px 1px 2px rgba(60, 64, 67, 0.3), 0px 1px 3px 1px rgba(60, 64, 67, 0.15);\n",
              "      fill: #174EA6;\n",
              "    }\n",
              "\n",
              "    [theme=dark] .colab-df-convert {\n",
              "      background-color: #3B4455;\n",
              "      fill: #D2E3FC;\n",
              "    }\n",
              "\n",
              "    [theme=dark] .colab-df-convert:hover {\n",
              "      background-color: #434B5C;\n",
              "      box-shadow: 0px 1px 3px 1px rgba(0, 0, 0, 0.15);\n",
              "      filter: drop-shadow(0px 1px 2px rgba(0, 0, 0, 0.3));\n",
              "      fill: #FFFFFF;\n",
              "    }\n",
              "  </style>\n",
              "\n",
              "      <script>\n",
              "        const buttonEl =\n",
              "          document.querySelector('#df-23575eef-ef42-43f7-a5cf-b2e063a0e126 button.colab-df-convert');\n",
              "        buttonEl.style.display =\n",
              "          google.colab.kernel.accessAllowed ? 'block' : 'none';\n",
              "\n",
              "        async function convertToInteractive(key) {\n",
              "          const element = document.querySelector('#df-23575eef-ef42-43f7-a5cf-b2e063a0e126');\n",
              "          const dataTable =\n",
              "            await google.colab.kernel.invokeFunction('convertToInteractive',\n",
              "                                                     [key], {});\n",
              "          if (!dataTable) return;\n",
              "\n",
              "          const docLinkHtml = 'Like what you see? Visit the ' +\n",
              "            '<a target=\"_blank\" href=https://colab.research.google.com/notebooks/data_table.ipynb>data table notebook</a>'\n",
              "            + ' to learn more about interactive tables.';\n",
              "          element.innerHTML = '';\n",
              "          dataTable['output_type'] = 'display_data';\n",
              "          await google.colab.output.renderOutput(dataTable, element);\n",
              "          const docLink = document.createElement('div');\n",
              "          docLink.innerHTML = docLinkHtml;\n",
              "          element.appendChild(docLink);\n",
              "        }\n",
              "      </script>\n",
              "    </div>\n",
              "  </div>\n",
              "  "
            ]
          },
          "metadata": {},
          "execution_count": 42
        }
      ]
    },
    {
      "cell_type": "code",
      "metadata": {
        "id": "14kGO5nkMGlV"
      },
      "source": [
        "X = df[['Number of Units']]\n",
        "y = df['Manufacturing Cost']"
      ],
      "execution_count": 43,
      "outputs": []
    },
    {
      "cell_type": "code",
      "source": [
        "len(X)"
      ],
      "metadata": {
        "id": "ksh_OrkjY3GW",
        "outputId": "aa4f7c94-a449-4b68-8f2c-86ea10c61d92",
        "colab": {
          "base_uri": "https://localhost:8080/"
        }
      },
      "execution_count": 44,
      "outputs": [
        {
          "output_type": "execute_result",
          "data": {
            "text/plain": [
              "1000"
            ]
          },
          "metadata": {},
          "execution_count": 44
        }
      ]
    },
    {
      "cell_type": "code",
      "source": [
        "y.describe"
      ],
      "metadata": {
        "colab": {
          "base_uri": "https://localhost:8080/"
        },
        "id": "bwR6SSqQDfC2",
        "outputId": "def210fa-a26d-4100-94b6-774e2f1cbfbe"
      },
      "execution_count": 45,
      "outputs": [
        {
          "output_type": "execute_result",
          "data": {
            "text/plain": [
              "<bound method NDFrame.describe of 0      95.066056\n",
              "1      96.531750\n",
              "2      73.661311\n",
              "3      95.566843\n",
              "4      98.777013\n",
              "         ...    \n",
              "995    23.855067\n",
              "996    27.536542\n",
              "997    25.973787\n",
              "998    25.138311\n",
              "999    21.547777\n",
              "Name: Manufacturing Cost, Length: 1000, dtype: float64>"
            ]
          },
          "metadata": {},
          "execution_count": 45
        }
      ]
    },
    {
      "cell_type": "code",
      "metadata": {
        "colab": {
          "base_uri": "https://localhost:8080/",
          "height": 285
        },
        "id": "idoEjfEhMoxk",
        "outputId": "1ac2924a-6ee8-4a4e-e922-e8a2f69ad8b2"
      },
      "source": [
        "plt.plot(X,y,'b.')"
      ],
      "execution_count": 46,
      "outputs": [
        {
          "output_type": "execute_result",
          "data": {
            "text/plain": [
              "[<matplotlib.lines.Line2D at 0x7f035c960610>]"
            ]
          },
          "metadata": {},
          "execution_count": 46
        },
        {
          "output_type": "display_data",
          "data": {
            "text/plain": [
              "<Figure size 432x288 with 1 Axes>"
            ],
            "image/png": "[encoded data removed]"
          },
          "metadata": {
            "needs_background": "light"
          }
        }
      ]
    },
    {
      "cell_type": "markdown",
      "source": [
        "### Divide los datos del costo de manufactura. Utiliza la función train_test_split (viene el ejemplo al final del notebook)."
      ],
      "metadata": {
        "id": "kLah8DjpRcgE"
      }
    },
    {
      "cell_type": "code",
      "source": [
        "X_train, X_test, y_train, y_test = train_test_split(X, y, test_size = 0.2, random_state = 101)\n",
        "\n",
        "print(f'Numero total de registros en la bdd: {len(X)}')\n",
        "print(\"*****\"*10)\n",
        "print(f'Numero total de registros en el training set: {len(X_train)}')\n",
        "print(f'Tamaño de X_train: {X_train.shape}')\n",
        "print(\"*****\"*10)\n",
        "print(f'Mumero total de registros en el test dataset: {len(X_test)}')\n",
        "print(f'Tamaño del X_test: {X_test.shape}')"
      ],
      "metadata": {
        "colab": {
          "base_uri": "https://localhost:8080/"
        },
        "id": "6MLbD_iFLyMK",
        "outputId": "a98e4904-3aec-4255-eef8-2ab9968f5025"
      },
      "execution_count": 47,
      "outputs": [
        {
          "output_type": "stream",
          "name": "stdout",
          "text": [
            "Numero total de registros en la bdd: 1000\n",
            "**************************************************\n",
            "Numero total de registros en el training set: 800\n",
            "Tamaño de X_train: (800, 1)\n",
            "**************************************************\n",
            "Mumero total de registros en el test dataset: 200\n",
            "Tamaño del X_test: (200, 1)\n"
          ]
        }
      ]
    },
    {
      "cell_type": "markdown",
      "source": [
        "### Regresión lineal:  "
      ],
      "metadata": {
        "id": "7dn7TG2JRrUP"
      }
    },
    {
      "cell_type": "markdown",
      "source": [
        "**Visualización**"
      ],
      "metadata": {
        "id": "wCy98sZJRwD_"
      }
    },
    {
      "cell_type": "code",
      "source": [
        "#lineal\n",
        "linear_reg = LinearRegression(fit_intercept=True)\n",
        "linear_reg.fit(X_train, y_train)\n",
        "X_fit = X\n",
        "y_fit = linear_reg.predict(X_fit)\n",
        "plt.scatter(X, y)\n",
        "plt.plot(X_fit, y_fit, \"r-\", linewidth=2, label=\"Predictions\")\n",
        "plt.xlabel(\"$X$\", fontsize=18)\n",
        "plt.ylabel(\"$y$\", rotation=0, fontsize=18)\n",
        "plt.legend(loc=\"upper left\", fontsize=14);"
      ],
      "metadata": {
        "id": "kMmOy97puOLE",
        "colab": {
          "base_uri": "https://localhost:8080/",
          "height": 290
        },
        "outputId": "209f5dad-6f38-4979-ca0e-3dfbaf3ad790"
      },
      "execution_count": 48,
      "outputs": [
        {
          "output_type": "display_data",
          "data": {
            "text/plain": [
              "<Figure size 432x288 with 1 Axes>"
            ],
            "image/png": "[encoded data removed]"
          },
          "metadata": {
            "needs_background": "light"
          }
        }
      ]
    },
    {
      "cell_type": "markdown",
      "source": [
        "**Ecuación**"
      ],
      "metadata": {
        "id": "inykXDBXUWiM"
      }
    },
    {
      "cell_type": "code",
      "source": [
        " print('El modelo es: Y =', linear_reg.coef_,'X +', linear_reg.intercept_)"
      ],
      "metadata": {
        "colab": {
          "base_uri": "https://localhost:8080/"
        },
        "id": "0DRYBNsFQ8Of",
        "outputId": "889309fb-2ebc-421b-f5aa-7cc93d3f2b36"
      },
      "execution_count": 49,
      "outputs": [
        {
          "output_type": "stream",
          "name": "stdout",
          "text": [
            "El modelo es: Y = [-5.97912772] X + 66.79997932683362\n"
          ]
        }
      ]
    },
    {
      "cell_type": "markdown",
      "source": [
        "**Errores y r cuadrada**"
      ],
      "metadata": {
        "id": "0QshvbfjUcBU"
      }
    },
    {
      "cell_type": "code",
      "metadata": {
        "id": "-VDz4zLK9Q0K",
        "outputId": "92fd3fd4-fd9c-4b6e-d8bf-6c80bc44e0f1",
        "colab": {
          "base_uri": "https://localhost:8080/"
        }
      },
      "source": [
        "mae = []\n",
        "r2 = []\n",
        "mae_l= metrics.mean_absolute_error(y, y_fit)\n",
        "mae.append(mae_l)\n",
        "r2_l=r2_score(y, y_fit)\n",
        "r2.append(r2_l)\n",
        "print('Error Medio Absoluto (MAE):', mae_l)\n",
        "print('Error Medio Cuadrado (RMSE):', np.sqrt(metrics.mean_squared_error(y, y_fit)))\n",
        "print('r2_score:', r2_l)\n"
      ],
      "execution_count": 50,
      "outputs": [
        {
          "output_type": "stream",
          "name": "stdout",
          "text": [
            "Error Medio Absoluto (MAE): 4.915317965170147\n",
            "Error Medio Cuadrado (RMSE): 6.871857036503329\n",
            "r2_score: 0.5789298498144764\n"
          ]
        }
      ]
    },
    {
      "cell_type": "markdown",
      "source": [
        "### Regresión Polinomial:"
      ],
      "metadata": {
        "id": "7zsy9ZD5UjEt"
      }
    },
    {
      "cell_type": "markdown",
      "source": [
        "**Visualización**"
      ],
      "metadata": {
        "id": "IUkglMqdUmHM"
      }
    },
    {
      "cell_type": "code",
      "source": [
        "#polinomial\n",
        "poly_features = PolynomialFeatures(degree=2, include_bias=False)\n",
        "X_poly = poly_features.fit_transform(X_train)\n",
        "lin_reg_pol = LinearRegression(fit_intercept=True)\n",
        "lin_reg_pol.fit(X_poly, y_train)\n",
        "lin_reg_pol.coef_, lin_reg_pol.intercept_\n",
        "X_new=np.linspace(0, 10, 1000).reshape(1000, 1)\n",
        "X_new_poly = poly_features.transform(X_new)\n",
        "y_new = lin_reg_pol.predict(X_new_poly)\n",
        "plt.plot(X, y, \"b.\")\n",
        "plt.plot(X_new.reshape(-1), y_new.reshape(-1), \"r-\", linewidth=2, label=\"Predictions\")\n",
        "plt.xlabel(\"$x_1$\", fontsize=18)\n",
        "plt.ylabel(\"$y$\", rotation=0, fontsize=18)\n",
        "plt.legend(loc=\"upper left\", fontsize=14)\n",
        "plt.axis([0, 10, 0, 90]);\n"
      ],
      "metadata": {
        "id": "LWvfEDGKuoLJ",
        "colab": {
          "base_uri": "https://localhost:8080/",
          "height": 349
        },
        "outputId": "452e1277-48d2-4e15-8982-22144daff2fc"
      },
      "execution_count": 51,
      "outputs": [
        {
          "output_type": "stream",
          "name": "stderr",
          "text": [
            "/usr/local/lib/python3.7/dist-packages/sklearn/base.py:451: UserWarning: X does not have valid feature names, but PolynomialFeatures was fitted with feature names\n",
            "  \"X does not have valid feature names, but\"\n"
          ]
        },
        {
          "output_type": "display_data",
          "data": {
            "text/plain": [
              "<Figure size 432x288 with 1 Axes>"
            ],
            "image/png": "[encoded data removed]"
          },
          "metadata": {
            "needs_background": "light"
          }
        }
      ]
    },
    {
      "cell_type": "markdown",
      "source": [
        "**Ecuación**"
      ],
      "metadata": {
        "id": "dKtXUGKjXVHX"
      }
    },
    {
      "cell_type": "code",
      "source": [
        " print('El modelo es: Y =', lin_reg_pol.coef_[1],'X^2 ', lin_reg_pol.coef_[0],'X +',lin_reg_pol.intercept_)"
      ],
      "metadata": {
        "colab": {
          "base_uri": "https://localhost:8080/"
        },
        "id": "YbzNNMcCXXiV",
        "outputId": "3d1d544c-0987-4d88-a858-e7f7f9610763"
      },
      "execution_count": 52,
      "outputs": [
        {
          "output_type": "stream",
          "name": "stdout",
          "text": [
            "El modelo es: Y = 1.121925894072367 X^2  -16.325067459116838 X + 88.66103372689139\n"
          ]
        }
      ]
    },
    {
      "cell_type": "markdown",
      "source": [
        "**Errores y r cuadrada**"
      ],
      "metadata": {
        "id": "orPx9YNdZILX"
      }
    },
    {
      "cell_type": "code",
      "source": [
        "mae_p= metrics.mean_absolute_error(y, y_new)\n",
        "mae.append(mae_p)\n",
        "r2_p=r2_score(y, y_new)\n",
        "r2.append(r2_p)\n",
        "print('Error medio Absoluto (MAE):', mae_p)\n",
        "print('Root Mean Squared Error:', np.sqrt(metrics.mean_squared_error(y, y_new)))\n",
        "print('r2_score',r2_p)"
      ],
      "metadata": {
        "id": "YJpXojAO-pJD",
        "colab": {
          "base_uri": "https://localhost:8080/"
        },
        "outputId": "3d9b5185-f8b5-42f8-a334-56be75da6f81"
      },
      "execution_count": 53,
      "outputs": [
        {
          "output_type": "stream",
          "name": "stdout",
          "text": [
            "Error medio Absoluto (MAE): 9.1383578624845\n",
            "Root Mean Squared Error: 12.222502700934806\n",
            "r2_score -0.3320683436475276\n"
          ]
        }
      ]
    },
    {
      "cell_type": "markdown",
      "source": [
        "### Regresión con Ridge \n"
      ],
      "metadata": {
        "id": "JsYFhXkpa05S"
      }
    },
    {
      "cell_type": "markdown",
      "source": [
        "**Visualización**"
      ],
      "metadata": {
        "id": "9bQU4EnNbArg"
      }
    },
    {
      "cell_type": "code",
      "source": [
        "linear_reg_r = Ridge(fit_intercept=True, alpha=5.0)\n",
        "linear_reg_r.fit(X_train, y_train)\n",
        "X_fit = X\n",
        "y_fit = linear_reg_r.predict(X_fit)\n",
        "plt.scatter(X, y)\n",
        "plt.plot(X_fit, y_fit, \"r-\", linewidth=2, label=\"Predictions\")\n",
        "plt.xlabel(\"$X$\", fontsize=18)\n",
        "plt.ylabel(\"$y$\", rotation=0, fontsize=18)\n",
        "plt.legend(loc=\"upper left\", fontsize=14);"
      ],
      "metadata": {
        "colab": {
          "base_uri": "https://localhost:8080/",
          "height": 290
        },
        "id": "gQA_pRwmbBoY",
        "outputId": "32f3d38f-5948-4de7-99d9-ab290a2f1da7"
      },
      "execution_count": 54,
      "outputs": [
        {
          "output_type": "display_data",
          "data": {
            "text/plain": [
              "<Figure size 432x288 with 1 Axes>"
            ],
            "image/png": "[encoded data removed]"
          },
          "metadata": {
            "needs_background": "light"
          }
        }
      ]
    },
    {
      "cell_type": "markdown",
      "source": [
        "**Ecuación**"
      ],
      "metadata": {
        "id": "uEpmU3MPcQzV"
      }
    },
    {
      "cell_type": "code",
      "source": [
        " print('El modelo es: Y =', linear_reg_r.coef_,'X +', linear_reg_r.intercept_)"
      ],
      "metadata": {
        "colab": {
          "base_uri": "https://localhost:8080/"
        },
        "id": "PBE51TYVcRV6",
        "outputId": "ee865e46-533a-43a6-80b2-d13f7b61a217"
      },
      "execution_count": 55,
      "outputs": [
        {
          "output_type": "stream",
          "name": "stdout",
          "text": [
            "El modelo es: Y = [-5.95791307] X + 66.70507846116492\n"
          ]
        }
      ]
    },
    {
      "cell_type": "markdown",
      "source": [
        "**Errores y r cuadrada**"
      ],
      "metadata": {
        "id": "XuGM49QYcioR"
      }
    },
    {
      "cell_type": "code",
      "source": [
        "mae_lr= metrics.mean_absolute_error(y, y_fit)\n",
        "mae.append(mae_lr)\n",
        "r2_lr=r2_score(y, y_fit)\n",
        "r2.append(r2_lr)\n",
        "\n",
        "print('Error Medio Absoluto (MAE):', mae_lr)\n",
        "print('Error Medio Cuadrado (RMSE):', np.sqrt(metrics.mean_squared_error(y, y_fit)))\n",
        "print('r2_score:',r2_lr)"
      ],
      "metadata": {
        "colab": {
          "base_uri": "https://localhost:8080/"
        },
        "id": "9bdY2xNscjQC",
        "outputId": "54f24be2-e182-4c01-ee80-f2dab848d502"
      },
      "execution_count": 56,
      "outputs": [
        {
          "output_type": "stream",
          "name": "stdout",
          "text": [
            "Error Medio Absoluto (MAE): 4.913001164854091\n",
            "Error Medio Cuadrado (RMSE): 6.872214123575491\n",
            "r2_score: 0.5788860879571204\n"
          ]
        }
      ]
    },
    {
      "cell_type": "markdown",
      "source": [
        "### Regresión con Lasso"
      ],
      "metadata": {
        "id": "b9vQYSKieZ0v"
      }
    },
    {
      "cell_type": "markdown",
      "source": [
        "**Visualización**"
      ],
      "metadata": {
        "id": "0sUvXgE9edXP"
      }
    },
    {
      "cell_type": "code",
      "source": [
        "linear_reg_r = Lasso(fit_intercept=True, alpha=5.0)\n",
        "linear_reg_r.fit(X_train, y_train)\n",
        "X_fit = X\n",
        "y_fit = linear_reg_r.predict(X_fit)\n",
        "plt.scatter(X, y)\n",
        "plt.plot(X_fit, y_fit, \"r-\", linewidth=2, label=\"Predictions\")\n",
        "plt.xlabel(\"$X$\", fontsize=18)\n",
        "plt.ylabel(\"$y$\", rotation=0, fontsize=18)\n",
        "plt.legend(loc=\"upper left\", fontsize=14);"
      ],
      "metadata": {
        "colab": {
          "base_uri": "https://localhost:8080/",
          "height": 290
        },
        "id": "2xxLm6mPefsz",
        "outputId": "d30d09a6-a269-4240-cb48-1a5e1c77b635"
      },
      "execution_count": 57,
      "outputs": [
        {
          "output_type": "display_data",
          "data": {
            "text/plain": [
              "<Figure size 432x288 with 1 Axes>"
            ],
            "image/png": "[encoded data removed]"
          },
          "metadata": {
            "needs_background": "light"
          }
        }
      ]
    },
    {
      "cell_type": "markdown",
      "source": [
        "**Ecuación**"
      ],
      "metadata": {
        "id": "IqhzVaKme-9v"
      }
    },
    {
      "cell_type": "code",
      "source": [
        " print('El modelo es: Y =', linear_reg_r.coef_,'X +', linear_reg_r.intercept_)"
      ],
      "metadata": {
        "colab": {
          "base_uri": "https://localhost:8080/"
        },
        "id": "4iOE6Vs_fBdQ",
        "outputId": "f8253d8c-1d9f-4ff2-ab8e-f71765823bea"
      },
      "execution_count": 58,
      "outputs": [
        {
          "output_type": "stream",
          "name": "stdout",
          "text": [
            "El modelo es: Y = [-3.13052647] X + 54.05714611335202\n"
          ]
        }
      ]
    },
    {
      "cell_type": "markdown",
      "source": [
        "**Errores y r cuadrada**"
      ],
      "metadata": {
        "id": "8o5qfSZyfReg"
      }
    },
    {
      "cell_type": "code",
      "source": [
        "mae_ll= metrics.mean_absolute_error(y, y_fit)\n",
        "mae.append(mae_ll)\n",
        "r2_ll=r2_score(y, y_fit)\n",
        "r2.append(r2_ll)\n",
        "\n",
        "print('Error Medio Absoluto (MAE):', mae_ll)\n",
        "print('Error Medio Cuadrado (RMSE):', np.sqrt(metrics.mean_squared_error(y, y_fit)))\n",
        "print('r2_score:',r2_ll)"
      ],
      "metadata": {
        "colab": {
          "base_uri": "https://localhost:8080/"
        },
        "id": "Md6AgQRwfTCo",
        "outputId": "fb86d369-f6cf-4f31-80f1-2891ed8f19e0"
      },
      "execution_count": 59,
      "outputs": [
        {
          "output_type": "stream",
          "name": "stdout",
          "text": [
            "Error Medio Absoluto (MAE): 5.421396191102771\n",
            "Error Medio Cuadrado (RMSE): 7.889737527333634\n",
            "r2_score: 0.44495098701049873\n"
          ]
        }
      ]
    },
    {
      "cell_type": "markdown",
      "source": [
        "### Gráfica MAE y R2"
      ],
      "metadata": {
        "id": "OHKIMFV3h-j9"
      }
    },
    {
      "cell_type": "code",
      "source": [
        "mae"
      ],
      "metadata": {
        "colab": {
          "base_uri": "https://localhost:8080/"
        },
        "id": "r-tv36tUj-G_",
        "outputId": "4314c90c-e997-4b0d-c9b7-db0be751b55e"
      },
      "execution_count": 60,
      "outputs": [
        {
          "output_type": "execute_result",
          "data": {
            "text/plain": [
              "[4.915317965170147, 9.1383578624845, 4.913001164854091, 5.421396191102771]"
            ]
          },
          "metadata": {},
          "execution_count": 60
        }
      ]
    },
    {
      "cell_type": "code",
      "source": [
        "r2"
      ],
      "metadata": {
        "colab": {
          "base_uri": "https://localhost:8080/"
        },
        "id": "w1T6RY_akGMH",
        "outputId": "47b3f798-3fae-4374-c6ab-2c3704e6d337"
      },
      "execution_count": 61,
      "outputs": [
        {
          "output_type": "execute_result",
          "data": {
            "text/plain": [
              "[0.5789298498144764,\n",
              " -0.3320683436475276,\n",
              " 0.5788860879571204,\n",
              " 0.44495098701049873]"
            ]
          },
          "metadata": {},
          "execution_count": 61
        }
      ]
    },
    {
      "cell_type": "code",
      "source": [
        "sns.set(rc={'figure.figsize':(9,6)})\n",
        "\n",
        "nombres=list()\n",
        "nombres=list()\n",
        "nombres.append('RL')\n",
        "nombres.append('RLP')\n",
        "nombres.append('Ridge')\n",
        "nombres.append('Lasso')\n",
        "\n",
        "plt.bar(nombres, mae)\n",
        "plt.bar(nombres, r2)\n",
        "plt.show()\n",
        "\n"
      ],
      "metadata": {
        "colab": {
          "base_uri": "https://localhost:8080/",
          "height": 377
        },
        "id": "yJ_B8Ac4h9Ql",
        "outputId": "da94805a-d7c8-4e75-9cff-1ef365a77fc6"
      },
      "execution_count": 62,
      "outputs": [
        {
          "output_type": "display_data",
          "data": {
            "text/plain": [
              "<Figure size 648x432 with 1 Axes>"
            ],
            "image/png": "[encoded data removed]"
          },
          "metadata": {}
        }
      ]
    },
    {
      "cell_type": "markdown",
      "source": [
        "Explica tus resultados, que método conviene más a la empresa, ¿por que?, ¿que porcentajes de entrenamiento y evaluación?, ¿que error tienes?, ¿es bueno?, ¿cómo lo sabes?"
      ],
      "metadata": {
        "id": "xdkju-bNJZ5p"
      }
    },
    {
      "cell_type": "markdown",
      "source": [
        "De acuerdo al analisis de las métricas de MAE y R2 con un porcentaje del 80% de entrenamiento y 20% de evaluación, podemos concluir que el modelo de Regresión Lineal es el que más se ajusta a los datos, tiene un bajo MAE y el mejor valor de R2 en comparación a los otros modelos. \n",
        "Entre Ridge y Lasso, los valores son muy cercanos con la diferencia que Lasso castiga más a los coeficientes de las variables en comparación con Ridge."
      ],
      "metadata": {
        "id": "UaXmEp7Tesia"
      }
    },
    {
      "cell_type": "markdown",
      "source": [
        "# Ejercicio 2\n",
        "## Regresión múltiple"
      ],
      "metadata": {
        "id": "ILluaJF6iRdW"
      }
    },
    {
      "cell_type": "code",
      "source": [
        "df = pd.read_csv('https://raw.githubusercontent.com/marypazrf/bdd/main/kc_house_data.csv')\n",
        "df.sample(10)"
      ],
      "metadata": {
        "colab": {
          "base_uri": "https://localhost:8080/",
          "height": 456
        },
        "id": "TyFzPCGLnAwD",
        "outputId": "19749dd6-628c-4670-e18d-71dc5c4eb62a"
      },
      "execution_count": 63,
      "outputs": [
        {
          "output_type": "execute_result",
          "data": {
            "text/plain": [
              "               id             date     price  bedrooms  bathrooms  \\\n",
              "9806   9407150310  20150128T000000  357000.0         4       2.50   \n",
              "19855   254000241  20150324T000000  540000.0         3       2.50   \n",
              "5870   3416601045  20140623T000000  345000.0         3       1.00   \n",
              "3369   9407101380  20141230T000000  189000.0         3       2.00   \n",
              "13685  3123059107  20140520T000000  555000.0         3       2.50   \n",
              "11551  1938000140  20150428T000000  810000.0         4       2.00   \n",
              "283    7202360350  20140630T000000  780000.0         4       2.50   \n",
              "3894   2085200261  20150218T000000  422500.0         3       2.00   \n",
              "3931   3592500985  20150504T000000  880000.0         4       2.50   \n",
              "19722  9161100075  20150318T000000  673000.0         4       2.25   \n",
              "\n",
              "       sqft_living  sqft_lot  floors  waterfront  view  ...  grade  \\\n",
              "9806          1980      9757     2.0           0     0  ...      7   \n",
              "19855         2220      5279     2.0           0     0  ...      8   \n",
              "5870          1140      4200     2.0           0     0  ...      7   \n",
              "3369          1460     11481     1.0           0     0  ...      7   \n",
              "13685         3050    158558     1.0           0     0  ...      9   \n",
              "11551         2920     10424     1.0           0     0  ...      8   \n",
              "283           3500      7048     2.0           0     0  ...      9   \n",
              "3894          1960      6450     1.0           0     0  ...      7   \n",
              "3931          2350      4675     2.0           0     0  ...      9   \n",
              "19722         2580      2875     2.0           0     0  ...      9   \n",
              "\n",
              "       sqft_above  sqft_basement  yr_built  yr_renovated  zipcode      lat  \\\n",
              "9806         1980              0      1995             0    98038  47.3675   \n",
              "19855        2220              0      2006             0    98146  47.5132   \n",
              "5870         1140              0      1904             0    98144  47.6012   \n",
              "3369         1170            290      1995             0    98045  47.4493   \n",
              "13685        3050              0      1987             0    98055  47.4326   \n",
              "11551        1520           1400      1964             0    98005  47.5876   \n",
              "283          3500              0      2005             0    98053  47.6811   \n",
              "3894         1000            960      1977             0    98038  47.3972   \n",
              "3931         2150            200      1923             0    98112  47.6344   \n",
              "19722        2580              0      2015             0    98116  47.5674   \n",
              "\n",
              "          long  sqft_living15  sqft_lot15  \n",
              "9806  -122.019           1610        6147  \n",
              "19855 -122.387           1610        5297  \n",
              "5870  -122.296           1510        4000  \n",
              "3369  -121.777           1540        9680  \n",
              "13685 -122.208           2960       31050  \n",
              "11551 -122.172           2360       10696  \n",
              "283   -122.025           3920        7864  \n",
              "3894  -122.029           1660       20720  \n",
              "3931  -122.305           2240        3848  \n",
              "19722 -122.392           1290        5750  \n",
              "\n",
              "[10 rows x 21 columns]"
            ],
            "text/html": [
              "\n",
              "  <div id=\"df-700cd7e8-34af-437f-8c6b-c3dc8a629912\">\n",
              "    <div class=\"colab-df-container\">\n",
              "      <div>\n",
              "<style scoped>\n",
              "    .dataframe tbody tr th:only-of-type {\n",
              "        vertical-align: middle;\n",
              "    }\n",
              "\n",
              "    .dataframe tbody tr th {\n",
              "        vertical-align: top;\n",
              "    }\n",
              "\n",
              "    .dataframe thead th {\n",
              "        text-align: right;\n",
              "    }\n",
              "</style>\n",
              "<table border=\"1\" class=\"dataframe\">\n",
              "  <thead>\n",
              "    <tr style=\"text-align: right;\">\n",
              "      <th></th>\n",
              "      <th>id</th>\n",
              "      <th>date</th>\n",
              "      <th>price</th>\n",
              "      <th>bedrooms</th>\n",
              "      <th>bathrooms</th>\n",
              "      <th>sqft_living</th>\n",
              "      <th>sqft_lot</th>\n",
              "      <th>floors</th>\n",
              "      <th>waterfront</th>\n",
              "      <th>view</th>\n",
              "      <th>...</th>\n",
              "      <th>grade</th>\n",
              "      <th>sqft_above</th>\n",
              "      <th>sqft_basement</th>\n",
              "      <th>yr_built</th>\n",
              "      <th>yr_renovated</th>\n",
              "      <th>zipcode</th>\n",
              "      <th>lat</th>\n",
              "      <th>long</th>\n",
              "      <th>sqft_living15</th>\n",
              "      <th>sqft_lot15</th>\n",
              "    </tr>\n",
              "  </thead>\n",
              "  <tbody>\n",
              "    <tr>\n",
              "      <th>9806</th>\n",
              "      <td>9407150310</td>\n",
              "      <td>20150128T000000</td>\n",
              "      <td>357000.0</td>\n",
              "      <td>4</td>\n",
              "      <td>2.50</td>\n",
              "      <td>1980</td>\n",
              "      <td>9757</td>\n",
              "      <td>2.0</td>\n",
              "      <td>0</td>\n",
              "      <td>0</td>\n",
              "      <td>...</td>\n",
              "      <td>7</td>\n",
              "      <td>1980</td>\n",
              "      <td>0</td>\n",
              "      <td>1995</td>\n",
              "      <td>0</td>\n",
              "      <td>98038</td>\n",
              "      <td>47.3675</td>\n",
              "      <td>-122.019</td>\n",
              "      <td>1610</td>\n",
              "      <td>6147</td>\n",
              "    </tr>\n",
              "    <tr>\n",
              "      <th>19855</th>\n",
              "      <td>254000241</td>\n",
              "      <td>20150324T000000</td>\n",
              "      <td>540000.0</td>\n",
              "      <td>3</td>\n",
              "      <td>2.50</td>\n",
              "      <td>2220</td>\n",
              "      <td>5279</td>\n",
              "      <td>2.0</td>\n",
              "      <td>0</td>\n",
              "      <td>0</td>\n",
              "      <td>...</td>\n",
              "      <td>8</td>\n",
              "      <td>2220</td>\n",
              "      <td>0</td>\n",
              "      <td>2006</td>\n",
              "      <td>0</td>\n",
              "      <td>98146</td>\n",
              "      <td>47.5132</td>\n",
              "      <td>-122.387</td>\n",
              "      <td>1610</td>\n",
              "      <td>5297</td>\n",
              "    </tr>\n",
              "    <tr>\n",
              "      <th>5870</th>\n",
              "      <td>3416601045</td>\n",
              "      <td>20140623T000000</td>\n",
              "      <td>345000.0</td>\n",
              "      <td>3</td>\n",
              "      <td>1.00</td>\n",
              "      <td>1140</td>\n",
              "      <td>4200</td>\n",
              "      <td>2.0</td>\n",
              "      <td>0</td>\n",
              "      <td>0</td>\n",
              "      <td>...</td>\n",
              "      <td>7</td>\n",
              "      <td>1140</td>\n",
              "      <td>0</td>\n",
              "      <td>1904</td>\n",
              "      <td>0</td>\n",
              "      <td>98144</td>\n",
              "      <td>47.6012</td>\n",
              "      <td>-122.296</td>\n",
              "      <td>1510</td>\n",
              "      <td>4000</td>\n",
              "    </tr>\n",
              "    <tr>\n",
              "      <th>3369</th>\n",
              "      <td>9407101380</td>\n",
              "      <td>20141230T000000</td>\n",
              "      <td>189000.0</td>\n",
              "      <td>3</td>\n",
              "      <td>2.00</td>\n",
              "      <td>1460</td>\n",
              "      <td>11481</td>\n",
              "      <td>1.0</td>\n",
              "      <td>0</td>\n",
              "      <td>0</td>\n",
              "      <td>...</td>\n",
              "      <td>7</td>\n",
              "      <td>1170</td>\n",
              "      <td>290</td>\n",
              "      <td>1995</td>\n",
              "      <td>0</td>\n",
              "      <td>98045</td>\n",
              "      <td>47.4493</td>\n",
              "      <td>-121.777</td>\n",
              "      <td>1540</td>\n",
              "      <td>9680</td>\n",
              "    </tr>\n",
              "    <tr>\n",
              "      <th>13685</th>\n",
              "      <td>3123059107</td>\n",
              "      <td>20140520T000000</td>\n",
              "      <td>555000.0</td>\n",
              "      <td>3</td>\n",
              "      <td>2.50</td>\n",
              "      <td>3050</td>\n",
              "      <td>158558</td>\n",
              "      <td>1.0</td>\n",
              "      <td>0</td>\n",
              "      <td>0</td>\n",
              "      <td>...</td>\n",
              "      <td>9</td>\n",
              "      <td>3050</td>\n",
              "      <td>0</td>\n",
              "      <td>1987</td>\n",
              "      <td>0</td>\n",
              "      <td>98055</td>\n",
              "      <td>47.4326</td>\n",
              "      <td>-122.208</td>\n",
              "      <td>2960</td>\n",
              "      <td>31050</td>\n",
              "    </tr>\n",
              "    <tr>\n",
              "      <th>11551</th>\n",
              "      <td>1938000140</td>\n",
              "      <td>20150428T000000</td>\n",
              "      <td>810000.0</td>\n",
              "      <td>4</td>\n",
              "      <td>2.00</td>\n",
              "      <td>2920</td>\n",
              "      <td>10424</td>\n",
              "      <td>1.0</td>\n",
              "      <td>0</td>\n",
              "      <td>0</td>\n",
              "      <td>...</td>\n",
              "      <td>8</td>\n",
              "      <td>1520</td>\n",
              "      <td>1400</td>\n",
              "      <td>1964</td>\n",
              "      <td>0</td>\n",
              "      <td>98005</td>\n",
              "      <td>47.5876</td>\n",
              "      <td>-122.172</td>\n",
              "      <td>2360</td>\n",
              "      <td>10696</td>\n",
              "    </tr>\n",
              "    <tr>\n",
              "      <th>283</th>\n",
              "      <td>7202360350</td>\n",
              "      <td>20140630T000000</td>\n",
              "      <td>780000.0</td>\n",
              "      <td>4</td>\n",
              "      <td>2.50</td>\n",
              "      <td>3500</td>\n",
              "      <td>7048</td>\n",
              "      <td>2.0</td>\n",
              "      <td>0</td>\n",
              "      <td>0</td>\n",
              "      <td>...</td>\n",
              "      <td>9</td>\n",
              "      <td>3500</td>\n",
              "      <td>0</td>\n",
              "      <td>2005</td>\n",
              "      <td>0</td>\n",
              "      <td>98053</td>\n",
              "      <td>47.6811</td>\n",
              "      <td>-122.025</td>\n",
              "      <td>3920</td>\n",
              "      <td>7864</td>\n",
              "    </tr>\n",
              "    <tr>\n",
              "      <th>3894</th>\n",
              "      <td>2085200261</td>\n",
              "      <td>20150218T000000</td>\n",
              "      <td>422500.0</td>\n",
              "      <td>3</td>\n",
              "      <td>2.00</td>\n",
              "      <td>1960</td>\n",
              "      <td>6450</td>\n",
              "      <td>1.0</td>\n",
              "      <td>0</td>\n",
              "      <td>0</td>\n",
              "      <td>...</td>\n",
              "      <td>7</td>\n",
              "      <td>1000</td>\n",
              "      <td>960</td>\n",
              "      <td>1977</td>\n",
              "      <td>0</td>\n",
              "      <td>98038</td>\n",
              "      <td>47.3972</td>\n",
              "      <td>-122.029</td>\n",
              "      <td>1660</td>\n",
              "      <td>20720</td>\n",
              "    </tr>\n",
              "    <tr>\n",
              "      <th>3931</th>\n",
              "      <td>3592500985</td>\n",
              "      <td>20150504T000000</td>\n",
              "      <td>880000.0</td>\n",
              "      <td>4</td>\n",
              "      <td>2.50</td>\n",
              "      <td>2350</td>\n",
              "      <td>4675</td>\n",
              "      <td>2.0</td>\n",
              "      <td>0</td>\n",
              "      <td>0</td>\n",
              "      <td>...</td>\n",
              "      <td>9</td>\n",
              "      <td>2150</td>\n",
              "      <td>200</td>\n",
              "      <td>1923</td>\n",
              "      <td>0</td>\n",
              "      <td>98112</td>\n",
              "      <td>47.6344</td>\n",
              "      <td>-122.305</td>\n",
              "      <td>2240</td>\n",
              "      <td>3848</td>\n",
              "    </tr>\n",
              "    <tr>\n",
              "      <th>19722</th>\n",
              "      <td>9161100075</td>\n",
              "      <td>20150318T000000</td>\n",
              "      <td>673000.0</td>\n",
              "      <td>4</td>\n",
              "      <td>2.25</td>\n",
              "      <td>2580</td>\n",
              "      <td>2875</td>\n",
              "      <td>2.0</td>\n",
              "      <td>0</td>\n",
              "      <td>0</td>\n",
              "      <td>...</td>\n",
              "      <td>9</td>\n",
              "      <td>2580</td>\n",
              "      <td>0</td>\n",
              "      <td>2015</td>\n",
              "      <td>0</td>\n",
              "      <td>98116</td>\n",
              "      <td>47.5674</td>\n",
              "      <td>-122.392</td>\n",
              "      <td>1290</td>\n",
              "      <td>5750</td>\n",
              "    </tr>\n",
              "  </tbody>\n",
              "</table>\n",
              "<p>10 rows × 21 columns</p>\n",
              "</div>\n",
              "      <button class=\"colab-df-convert\" onclick=\"convertToInteractive('df-700cd7e8-34af-437f-8c6b-c3dc8a629912')\"\n",
              "              title=\"Convert this dataframe to an interactive table.\"\n",
              "              style=\"display:none;\">\n",
              "        \n",
              "  <svg xmlns=\"http://www.w3.org/2000/svg\" height=\"24px\"viewBox=\"0 0 24 24\"\n",
              "       width=\"24px\">\n",
              "    <path d=\"M0 0h24v24H0V0z\" fill=\"none\"/>\n",
              "    <path d=\"M18.56 5.44l.94 2.06.94-2.06 2.06-.94-2.06-.94-.94-2.06-.94 2.06-2.06.94zm-11 1L8.5 8.5l.94-2.06 2.06-.94-2.06-.94L8.5 2.5l-.94 2.06-2.06.94zm10 10l.94 2.06.94-2.06 2.06-.94-2.06-.94-.94-2.06-.94 2.06-2.06.94z\"/><path d=\"M17.41 7.96l-1.37-1.37c-.4-.4-.92-.59-1.43-.59-.52 0-1.04.2-1.43.59L10.3 9.45l-7.72 7.72c-.78.78-.78 2.05 0 2.83L4 21.41c.39.39.9.59 1.41.59.51 0 1.02-.2 1.41-.59l7.78-7.78 2.81-2.81c.8-.78.8-2.07 0-2.86zM5.41 20L4 18.59l7.72-7.72 1.47 1.35L5.41 20z\"/>\n",
              "  </svg>\n",
              "      </button>\n",
              "      \n",
              "  <style>\n",
              "    .colab-df-container {\n",
              "      display:flex;\n",
              "      flex-wrap:wrap;\n",
              "      gap: 12px;\n",
              "    }\n",
              "\n",
              "    .colab-df-convert {\n",
              "      background-color: #E8F0FE;\n",
              "      border: none;\n",
              "      border-radius: 50%;\n",
              "      cursor: pointer;\n",
              "      display: none;\n",
              "      fill: #1967D2;\n",
              "      height: 32px;\n",
              "      padding: 0 0 0 0;\n",
              "      width: 32px;\n",
              "    }\n",
              "\n",
              "    .colab-df-convert:hover {\n",
              "      background-color: #E2EBFA;\n",
              "      box-shadow: 0px 1px 2px rgba(60, 64, 67, 0.3), 0px 1px 3px 1px rgba(60, 64, 67, 0.15);\n",
              "      fill: #174EA6;\n",
              "    }\n",
              "\n",
              "    [theme=dark] .colab-df-convert {\n",
              "      background-color: #3B4455;\n",
              "      fill: #D2E3FC;\n",
              "    }\n",
              "\n",
              "    [theme=dark] .colab-df-convert:hover {\n",
              "      background-color: #434B5C;\n",
              "      box-shadow: 0px 1px 3px 1px rgba(0, 0, 0, 0.15);\n",
              "      filter: drop-shadow(0px 1px 2px rgba(0, 0, 0, 0.3));\n",
              "      fill: #FFFFFF;\n",
              "    }\n",
              "  </style>\n",
              "\n",
              "      <script>\n",
              "        const buttonEl =\n",
              "          document.querySelector('#df-700cd7e8-34af-437f-8c6b-c3dc8a629912 button.colab-df-convert');\n",
              "        buttonEl.style.display =\n",
              "          google.colab.kernel.accessAllowed ? 'block' : 'none';\n",
              "\n",
              "        async function convertToInteractive(key) {\n",
              "          const element = document.querySelector('#df-700cd7e8-34af-437f-8c6b-c3dc8a629912');\n",
              "          const dataTable =\n",
              "            await google.colab.kernel.invokeFunction('convertToInteractive',\n",
              "                                                     [key], {});\n",
              "          if (!dataTable) return;\n",
              "\n",
              "          const docLinkHtml = 'Like what you see? Visit the ' +\n",
              "            '<a target=\"_blank\" href=https://colab.research.google.com/notebooks/data_table.ipynb>data table notebook</a>'\n",
              "            + ' to learn more about interactive tables.';\n",
              "          element.innerHTML = '';\n",
              "          dataTable['output_type'] = 'display_data';\n",
              "          await google.colab.output.renderOutput(dataTable, element);\n",
              "          const docLink = document.createElement('div');\n",
              "          docLink.innerHTML = docLinkHtml;\n",
              "          element.appendChild(docLink);\n",
              "        }\n",
              "      </script>\n",
              "    </div>\n",
              "  </div>\n",
              "  "
            ]
          },
          "metadata": {},
          "execution_count": 63
        }
      ]
    },
    {
      "cell_type": "code",
      "source": [
        "df.info()"
      ],
      "metadata": {
        "colab": {
          "base_uri": "https://localhost:8080/"
        },
        "id": "3lFf1xfVnDKv",
        "outputId": "8a5271b6-cfb1-43b1-8b87-d0647a434718"
      },
      "execution_count": 64,
      "outputs": [
        {
          "output_type": "stream",
          "name": "stdout",
          "text": [
            "<class 'pandas.core.frame.DataFrame'>\n",
            "RangeIndex: 21613 entries, 0 to 21612\n",
            "Data columns (total 21 columns):\n",
            " #   Column         Non-Null Count  Dtype  \n",
            "---  ------         --------------  -----  \n",
            " 0   id             21613 non-null  int64  \n",
            " 1   date           21613 non-null  object \n",
            " 2   price          21613 non-null  float64\n",
            " 3   bedrooms       21613 non-null  int64  \n",
            " 4   bathrooms      21613 non-null  float64\n",
            " 5   sqft_living    21613 non-null  int64  \n",
            " 6   sqft_lot       21613 non-null  int64  \n",
            " 7   floors         21613 non-null  float64\n",
            " 8   waterfront     21613 non-null  int64  \n",
            " 9   view           21613 non-null  int64  \n",
            " 10  condition      21613 non-null  int64  \n",
            " 11  grade          21613 non-null  int64  \n",
            " 12  sqft_above     21613 non-null  int64  \n",
            " 13  sqft_basement  21613 non-null  int64  \n",
            " 14  yr_built       21613 non-null  int64  \n",
            " 15  yr_renovated   21613 non-null  int64  \n",
            " 16  zipcode        21613 non-null  int64  \n",
            " 17  lat            21613 non-null  float64\n",
            " 18  long           21613 non-null  float64\n",
            " 19  sqft_living15  21613 non-null  int64  \n",
            " 20  sqft_lot15     21613 non-null  int64  \n",
            "dtypes: float64(5), int64(15), object(1)\n",
            "memory usage: 3.5+ MB\n"
          ]
        }
      ]
    },
    {
      "cell_type": "code",
      "source": [
        "df.describe()"
      ],
      "metadata": {
        "colab": {
          "base_uri": "https://localhost:8080/",
          "height": 364
        },
        "id": "adGO-t15nGxE",
        "outputId": "5f314fcf-46f7-4370-c70a-b96624a50ca4"
      },
      "execution_count": 65,
      "outputs": [
        {
          "output_type": "execute_result",
          "data": {
            "text/plain": [
              "                 id         price      bedrooms     bathrooms   sqft_living  \\\n",
              "count  2.161300e+04  2.161300e+04  21613.000000  21613.000000  21613.000000   \n",
              "mean   4.580302e+09  5.400881e+05      3.370842      2.114757   2079.899736   \n",
              "std    2.876566e+09  3.671272e+05      0.930062      0.770163    918.440897   \n",
              "min    1.000102e+06  7.500000e+04      0.000000      0.000000    290.000000   \n",
              "25%    2.123049e+09  3.219500e+05      3.000000      1.750000   1427.000000   \n",
              "50%    3.904930e+09  4.500000e+05      3.000000      2.250000   1910.000000   \n",
              "75%    7.308900e+09  6.450000e+05      4.000000      2.500000   2550.000000   \n",
              "max    9.900000e+09  7.700000e+06     33.000000      8.000000  13540.000000   \n",
              "\n",
              "           sqft_lot        floors    waterfront          view     condition  \\\n",
              "count  2.161300e+04  21613.000000  21613.000000  21613.000000  21613.000000   \n",
              "mean   1.510697e+04      1.494309      0.007542      0.234303      3.409430   \n",
              "std    4.142051e+04      0.539989      0.086517      0.766318      0.650743   \n",
              "min    5.200000e+02      1.000000      0.000000      0.000000      1.000000   \n",
              "25%    5.040000e+03      1.000000      0.000000      0.000000      3.000000   \n",
              "50%    7.618000e+03      1.500000      0.000000      0.000000      3.000000   \n",
              "75%    1.068800e+04      2.000000      0.000000      0.000000      4.000000   \n",
              "max    1.651359e+06      3.500000      1.000000      4.000000      5.000000   \n",
              "\n",
              "              grade    sqft_above  sqft_basement      yr_built  yr_renovated  \\\n",
              "count  21613.000000  21613.000000   21613.000000  21613.000000  21613.000000   \n",
              "mean       7.656873   1788.390691     291.509045   1971.005136     84.402258   \n",
              "std        1.175459    828.090978     442.575043     29.373411    401.679240   \n",
              "min        1.000000    290.000000       0.000000   1900.000000      0.000000   \n",
              "25%        7.000000   1190.000000       0.000000   1951.000000      0.000000   \n",
              "50%        7.000000   1560.000000       0.000000   1975.000000      0.000000   \n",
              "75%        8.000000   2210.000000     560.000000   1997.000000      0.000000   \n",
              "max       13.000000   9410.000000    4820.000000   2015.000000   2015.000000   \n",
              "\n",
              "            zipcode           lat          long  sqft_living15     sqft_lot15  \n",
              "count  21613.000000  21613.000000  21613.000000   21613.000000   21613.000000  \n",
              "mean   98077.939805     47.560053   -122.213896    1986.552492   12768.455652  \n",
              "std       53.505026      0.138564      0.140828     685.391304   27304.179631  \n",
              "min    98001.000000     47.155900   -122.519000     399.000000     651.000000  \n",
              "25%    98033.000000     47.471000   -122.328000    1490.000000    5100.000000  \n",
              "50%    98065.000000     47.571800   -122.230000    1840.000000    7620.000000  \n",
              "75%    98118.000000     47.678000   -122.125000    2360.000000   10083.000000  \n",
              "max    98199.000000     47.777600   -121.315000    6210.000000  871200.000000  "
            ],
            "text/html": [
              "\n",
              "  <div id=\"df-7e8d5c0e-2670-4fcb-833e-0dd54913bc67\">\n",
              "    <div class=\"colab-df-container\">\n",
              "      <div>\n",
              "<style scoped>\n",
              "    .dataframe tbody tr th:only-of-type {\n",
              "        vertical-align: middle;\n",
              "    }\n",
              "\n",
              "    .dataframe tbody tr th {\n",
              "        vertical-align: top;\n",
              "    }\n",
              "\n",
              "    .dataframe thead th {\n",
              "        text-align: right;\n",
              "    }\n",
              "</style>\n",
              "<table border=\"1\" class=\"dataframe\">\n",
              "  <thead>\n",
              "    <tr style=\"text-align: right;\">\n",
              "      <th></th>\n",
              "      <th>id</th>\n",
              "      <th>price</th>\n",
              "      <th>bedrooms</th>\n",
              "      <th>bathrooms</th>\n",
              "      <th>sqft_living</th>\n",
              "      <th>sqft_lot</th>\n",
              "      <th>floors</th>\n",
              "      <th>waterfront</th>\n",
              "      <th>view</th>\n",
              "      <th>condition</th>\n",
              "      <th>grade</th>\n",
              "      <th>sqft_above</th>\n",
              "      <th>sqft_basement</th>\n",
              "      <th>yr_built</th>\n",
              "      <th>yr_renovated</th>\n",
              "      <th>zipcode</th>\n",
              "      <th>lat</th>\n",
              "      <th>long</th>\n",
              "      <th>sqft_living15</th>\n",
              "      <th>sqft_lot15</th>\n",
              "    </tr>\n",
              "  </thead>\n",
              "  <tbody>\n",
              "    <tr>\n",
              "      <th>count</th>\n",
              "      <td>2.161300e+04</td>\n",
              "      <td>2.161300e+04</td>\n",
              "      <td>21613.000000</td>\n",
              "      <td>21613.000000</td>\n",
              "      <td>21613.000000</td>\n",
              "      <td>2.161300e+04</td>\n",
              "      <td>21613.000000</td>\n",
              "      <td>21613.000000</td>\n",
              "      <td>21613.000000</td>\n",
              "      <td>21613.000000</td>\n",
              "      <td>21613.000000</td>\n",
              "      <td>21613.000000</td>\n",
              "      <td>21613.000000</td>\n",
              "      <td>21613.000000</td>\n",
              "      <td>21613.000000</td>\n",
              "      <td>21613.000000</td>\n",
              "      <td>21613.000000</td>\n",
              "      <td>21613.000000</td>\n",
              "      <td>21613.000000</td>\n",
              "      <td>21613.000000</td>\n",
              "    </tr>\n",
              "    <tr>\n",
              "      <th>mean</th>\n",
              "      <td>4.580302e+09</td>\n",
              "      <td>5.400881e+05</td>\n",
              "      <td>3.370842</td>\n",
              "      <td>2.114757</td>\n",
              "      <td>2079.899736</td>\n",
              "      <td>1.510697e+04</td>\n",
              "      <td>1.494309</td>\n",
              "      <td>0.007542</td>\n",
              "      <td>0.234303</td>\n",
              "      <td>3.409430</td>\n",
              "      <td>7.656873</td>\n",
              "      <td>1788.390691</td>\n",
              "      <td>291.509045</td>\n",
              "      <td>1971.005136</td>\n",
              "      <td>84.402258</td>\n",
              "      <td>98077.939805</td>\n",
              "      <td>47.560053</td>\n",
              "      <td>-122.213896</td>\n",
              "      <td>1986.552492</td>\n",
              "      <td>12768.455652</td>\n",
              "    </tr>\n",
              "    <tr>\n",
              "      <th>std</th>\n",
              "      <td>2.876566e+09</td>\n",
              "      <td>3.671272e+05</td>\n",
              "      <td>0.930062</td>\n",
              "      <td>0.770163</td>\n",
              "      <td>918.440897</td>\n",
              "      <td>4.142051e+04</td>\n",
              "      <td>0.539989</td>\n",
              "      <td>0.086517</td>\n",
              "      <td>0.766318</td>\n",
              "      <td>0.650743</td>\n",
              "      <td>1.175459</td>\n",
              "      <td>828.090978</td>\n",
              "      <td>442.575043</td>\n",
              "      <td>29.373411</td>\n",
              "      <td>401.679240</td>\n",
              "      <td>53.505026</td>\n",
              "      <td>0.138564</td>\n",
              "      <td>0.140828</td>\n",
              "      <td>685.391304</td>\n",
              "      <td>27304.179631</td>\n",
              "    </tr>\n",
              "    <tr>\n",
              "      <th>min</th>\n",
              "      <td>1.000102e+06</td>\n",
              "      <td>7.500000e+04</td>\n",
              "      <td>0.000000</td>\n",
              "      <td>0.000000</td>\n",
              "      <td>290.000000</td>\n",
              "      <td>5.200000e+02</td>\n",
              "      <td>1.000000</td>\n",
              "      <td>0.000000</td>\n",
              "      <td>0.000000</td>\n",
              "      <td>1.000000</td>\n",
              "      <td>1.000000</td>\n",
              "      <td>290.000000</td>\n",
              "      <td>0.000000</td>\n",
              "      <td>1900.000000</td>\n",
              "      <td>0.000000</td>\n",
              "      <td>98001.000000</td>\n",
              "      <td>47.155900</td>\n",
              "      <td>-122.519000</td>\n",
              "      <td>399.000000</td>\n",
              "      <td>651.000000</td>\n",
              "    </tr>\n",
              "    <tr>\n",
              "      <th>25%</th>\n",
              "      <td>2.123049e+09</td>\n",
              "      <td>3.219500e+05</td>\n",
              "      <td>3.000000</td>\n",
              "      <td>1.750000</td>\n",
              "      <td>1427.000000</td>\n",
              "      <td>5.040000e+03</td>\n",
              "      <td>1.000000</td>\n",
              "      <td>0.000000</td>\n",
              "      <td>0.000000</td>\n",
              "      <td>3.000000</td>\n",
              "      <td>7.000000</td>\n",
              "      <td>1190.000000</td>\n",
              "      <td>0.000000</td>\n",
              "      <td>1951.000000</td>\n",
              "      <td>0.000000</td>\n",
              "      <td>98033.000000</td>\n",
              "      <td>47.471000</td>\n",
              "      <td>-122.328000</td>\n",
              "      <td>1490.000000</td>\n",
              "      <td>5100.000000</td>\n",
              "    </tr>\n",
              "    <tr>\n",
              "      <th>50%</th>\n",
              "      <td>3.904930e+09</td>\n",
              "      <td>4.500000e+05</td>\n",
              "      <td>3.000000</td>\n",
              "      <td>2.250000</td>\n",
              "      <td>1910.000000</td>\n",
              "      <td>7.618000e+03</td>\n",
              "      <td>1.500000</td>\n",
              "      <td>0.000000</td>\n",
              "      <td>0.000000</td>\n",
              "      <td>3.000000</td>\n",
              "      <td>7.000000</td>\n",
              "      <td>1560.000000</td>\n",
              "      <td>0.000000</td>\n",
              "      <td>1975.000000</td>\n",
              "      <td>0.000000</td>\n",
              "      <td>98065.000000</td>\n",
              "      <td>47.571800</td>\n",
              "      <td>-122.230000</td>\n",
              "      <td>1840.000000</td>\n",
              "      <td>7620.000000</td>\n",
              "    </tr>\n",
              "    <tr>\n",
              "      <th>75%</th>\n",
              "      <td>7.308900e+09</td>\n",
              "      <td>6.450000e+05</td>\n",
              "      <td>4.000000</td>\n",
              "      <td>2.500000</td>\n",
              "      <td>2550.000000</td>\n",
              "      <td>1.068800e+04</td>\n",
              "      <td>2.000000</td>\n",
              "      <td>0.000000</td>\n",
              "      <td>0.000000</td>\n",
              "      <td>4.000000</td>\n",
              "      <td>8.000000</td>\n",
              "      <td>2210.000000</td>\n",
              "      <td>560.000000</td>\n",
              "      <td>1997.000000</td>\n",
              "      <td>0.000000</td>\n",
              "      <td>98118.000000</td>\n",
              "      <td>47.678000</td>\n",
              "      <td>-122.125000</td>\n",
              "      <td>2360.000000</td>\n",
              "      <td>10083.000000</td>\n",
              "    </tr>\n",
              "    <tr>\n",
              "      <th>max</th>\n",
              "      <td>9.900000e+09</td>\n",
              "      <td>7.700000e+06</td>\n",
              "      <td>33.000000</td>\n",
              "      <td>8.000000</td>\n",
              "      <td>13540.000000</td>\n",
              "      <td>1.651359e+06</td>\n",
              "      <td>3.500000</td>\n",
              "      <td>1.000000</td>\n",
              "      <td>4.000000</td>\n",
              "      <td>5.000000</td>\n",
              "      <td>13.000000</td>\n",
              "      <td>9410.000000</td>\n",
              "      <td>4820.000000</td>\n",
              "      <td>2015.000000</td>\n",
              "      <td>2015.000000</td>\n",
              "      <td>98199.000000</td>\n",
              "      <td>47.777600</td>\n",
              "      <td>-121.315000</td>\n",
              "      <td>6210.000000</td>\n",
              "      <td>871200.000000</td>\n",
              "    </tr>\n",
              "  </tbody>\n",
              "</table>\n",
              "</div>\n",
              "      <button class=\"colab-df-convert\" onclick=\"convertToInteractive('df-7e8d5c0e-2670-4fcb-833e-0dd54913bc67')\"\n",
              "              title=\"Convert this dataframe to an interactive table.\"\n",
              "              style=\"display:none;\">\n",
              "        \n",
              "  <svg xmlns=\"http://www.w3.org/2000/svg\" height=\"24px\"viewBox=\"0 0 24 24\"\n",
              "       width=\"24px\">\n",
              "    <path d=\"M0 0h24v24H0V0z\" fill=\"none\"/>\n",
              "    <path d=\"M18.56 5.44l.94 2.06.94-2.06 2.06-.94-2.06-.94-.94-2.06-.94 2.06-2.06.94zm-11 1L8.5 8.5l.94-2.06 2.06-.94-2.06-.94L8.5 2.5l-.94 2.06-2.06.94zm10 10l.94 2.06.94-2.06 2.06-.94-2.06-.94-.94-2.06-.94 2.06-2.06.94z\"/><path d=\"M17.41 7.96l-1.37-1.37c-.4-.4-.92-.59-1.43-.59-.52 0-1.04.2-1.43.59L10.3 9.45l-7.72 7.72c-.78.78-.78 2.05 0 2.83L4 21.41c.39.39.9.59 1.41.59.51 0 1.02-.2 1.41-.59l7.78-7.78 2.81-2.81c.8-.78.8-2.07 0-2.86zM5.41 20L4 18.59l7.72-7.72 1.47 1.35L5.41 20z\"/>\n",
              "  </svg>\n",
              "      </button>\n",
              "      \n",
              "  <style>\n",
              "    .colab-df-container {\n",
              "      display:flex;\n",
              "      flex-wrap:wrap;\n",
              "      gap: 12px;\n",
              "    }\n",
              "\n",
              "    .colab-df-convert {\n",
              "      background-color: #E8F0FE;\n",
              "      border: none;\n",
              "      border-radius: 50%;\n",
              "      cursor: pointer;\n",
              "      display: none;\n",
              "      fill: #1967D2;\n",
              "      height: 32px;\n",
              "      padding: 0 0 0 0;\n",
              "      width: 32px;\n",
              "    }\n",
              "\n",
              "    .colab-df-convert:hover {\n",
              "      background-color: #E2EBFA;\n",
              "      box-shadow: 0px 1px 2px rgba(60, 64, 67, 0.3), 0px 1px 3px 1px rgba(60, 64, 67, 0.15);\n",
              "      fill: #174EA6;\n",
              "    }\n",
              "\n",
              "    [theme=dark] .colab-df-convert {\n",
              "      background-color: #3B4455;\n",
              "      fill: #D2E3FC;\n",
              "    }\n",
              "\n",
              "    [theme=dark] .colab-df-convert:hover {\n",
              "      background-color: #434B5C;\n",
              "      box-shadow: 0px 1px 3px 1px rgba(0, 0, 0, 0.15);\n",
              "      filter: drop-shadow(0px 1px 2px rgba(0, 0, 0, 0.3));\n",
              "      fill: #FFFFFF;\n",
              "    }\n",
              "  </style>\n",
              "\n",
              "      <script>\n",
              "        const buttonEl =\n",
              "          document.querySelector('#df-7e8d5c0e-2670-4fcb-833e-0dd54913bc67 button.colab-df-convert');\n",
              "        buttonEl.style.display =\n",
              "          google.colab.kernel.accessAllowed ? 'block' : 'none';\n",
              "\n",
              "        async function convertToInteractive(key) {\n",
              "          const element = document.querySelector('#df-7e8d5c0e-2670-4fcb-833e-0dd54913bc67');\n",
              "          const dataTable =\n",
              "            await google.colab.kernel.invokeFunction('convertToInteractive',\n",
              "                                                     [key], {});\n",
              "          if (!dataTable) return;\n",
              "\n",
              "          const docLinkHtml = 'Like what you see? Visit the ' +\n",
              "            '<a target=\"_blank\" href=https://colab.research.google.com/notebooks/data_table.ipynb>data table notebook</a>'\n",
              "            + ' to learn more about interactive tables.';\n",
              "          element.innerHTML = '';\n",
              "          dataTable['output_type'] = 'display_data';\n",
              "          await google.colab.output.renderOutput(dataTable, element);\n",
              "          const docLink = document.createElement('div');\n",
              "          docLink.innerHTML = docLinkHtml;\n",
              "          element.appendChild(docLink);\n",
              "        }\n",
              "      </script>\n",
              "    </div>\n",
              "  </div>\n",
              "  "
            ]
          },
          "metadata": {},
          "execution_count": 65
        }
      ]
    },
    {
      "cell_type": "code",
      "source": [
        "df.drop('id', axis = 1, inplace = True)\n",
        "df.drop('date', axis = 1, inplace = True)\n",
        "df.drop('zipcode', axis = 1, inplace = True)\n",
        "df.drop('lat', axis = 1, inplace = True)\n",
        "df.drop('long', axis = 1, inplace = True)"
      ],
      "metadata": {
        "id": "iObabtv_nKFQ"
      },
      "execution_count": 66,
      "outputs": []
    },
    {
      "cell_type": "code",
      "source": [
        "plt.figure(figsize=(12,8)) \n",
        "sns.heatmap(df.corr(), annot=True, cmap='Dark2_r', linewidths = 2)\n",
        "plt.show()"
      ],
      "metadata": {
        "colab": {
          "base_uri": "https://localhost:8080/",
          "height": 561
        },
        "id": "9tRle8XLnOBD",
        "outputId": "7d5beeaf-93e3-42bb-dca8-ef621d92d90b"
      },
      "execution_count": 67,
      "outputs": [
        {
          "output_type": "display_data",
          "data": {
            "text/plain": [
              "<Figure size 864x576 with 2 Axes>"
            ],
            "image/png": "[encoded data removed]"
          },
          "metadata": {}
        }
      ]
    },
    {
      "cell_type": "code",
      "source": [
        "columns = df.columns.drop('price')\n",
        "\n",
        "features = columns\n",
        "label = ['price']\n",
        "\n",
        "X = df[features]\n",
        "y = df[label]"
      ],
      "metadata": {
        "id": "yds6JmlUnQx1"
      },
      "execution_count": 68,
      "outputs": []
    },
    {
      "cell_type": "code",
      "source": [
        "X_train, X_test, y_train, y_test = train_test_split(X, y, test_size = 0.1, random_state = 101) #Este renglon nos lo fusilamos\n",
        "\n",
        "print(f'Numero total de registros en la bdd: {len(X)}')\n",
        "print(\"*****\"*10)\n",
        "print(f'Numero total de registros en el training set: {len(X_train)}')\n",
        "print(f'Tamaño de X_train: {X_train.shape}')\n",
        "print(\"*****\"*10)\n",
        "print(f'Mumero total de registros en el test dataset: {len(X_test)}')\n",
        "print(f'Tamaño del X_test: {X_test.shape}')"
      ],
      "metadata": {
        "colab": {
          "base_uri": "https://localhost:8080/"
        },
        "id": "6ei7yfMbnUBz",
        "outputId": "e0f4b6ba-4b12-406c-b9b1-f7b5479821fa"
      },
      "execution_count": 69,
      "outputs": [
        {
          "output_type": "stream",
          "name": "stdout",
          "text": [
            "Numero total de registros en la bdd: 21613\n",
            "**************************************************\n",
            "Numero total de registros en el training set: 19451\n",
            "Tamaño de X_train: (19451, 15)\n",
            "**************************************************\n",
            "Mumero total de registros en el test dataset: 2162\n",
            "Tamaño del X_test: (2162, 15)\n"
          ]
        }
      ]
    },
    {
      "cell_type": "markdown",
      "source": [
        "### Regresión Multiple Lineal: "
      ],
      "metadata": {
        "id": "NVPT3HIUogf1"
      }
    },
    {
      "cell_type": "markdown",
      "source": [
        "**Visualización**"
      ],
      "metadata": {
        "id": "FbaHCovVol65"
      }
    },
    {
      "cell_type": "code",
      "source": [
        "#lineal\n",
        "linear_reg = LinearRegression(fit_intercept=True)\n",
        "linear_reg.fit(X_train, y_train)\n",
        "X_fit = X\n",
        "y_fit = linear_reg.predict(X_fit)\n",
        "#plt.scatter(X, y)\n",
        "#plt.plot(X_fit, y_fit, \"r-\", linewidth=2, label=\"Predictions\")\n",
        "#plt.xlabel(\"$X$\", fontsize=18)\n",
        "#plt.ylabel(\"$y$\", rotation=0, fontsize=18)\n",
        "#plt.legend(loc=\"upper left\", fontsize=14);"
      ],
      "metadata": {
        "id": "XgmZtGtoouCi"
      },
      "execution_count": 70,
      "outputs": []
    },
    {
      "cell_type": "markdown",
      "source": [
        "**Ecuación**"
      ],
      "metadata": {
        "id": "ThoWh3bJrKLn"
      }
    },
    {
      "cell_type": "code",
      "source": [
        "print('El modelo es: Y =',linear_reg.coef_[0][0],'X1 +',linear_reg.coef_[0][1],'X2+',\n",
        "      linear_reg.coef_[0][2],'X3+\\n',linear_reg.coef_[0][3],'X4+',linear_reg.coef_[0][4],'X5+',\n",
        "      linear_reg.coef_[0][5],'X6+',linear_reg.coef_[0][6],'X7+\\n',linear_reg.coef_[0][7],'X8+',\n",
        "      linear_reg.coef_[0][8],'X9+',linear_reg.coef_[0][9],'X10+',linear_reg.coef_[0][10],'X11\\n',\n",
        "      linear_reg.coef_[0][11],'X12+',linear_reg.coef_[0][12],'X13+',linear_reg.coef_[0][13],'X14\\n',\n",
        "      linear_reg.coef_[0][14],'X15+',linear_reg.intercept_)"
      ],
      "metadata": {
        "colab": {
          "base_uri": "https://localhost:8080/"
        },
        "id": "jK4hznljseyf",
        "outputId": "0c903eab-2cd6-412c-de2c-abbe5d2dc2b9"
      },
      "execution_count": 71,
      "outputs": [
        {
          "output_type": "stream",
          "name": "stdout",
          "text": [
            "El modelo es: Y = -38200.80483396449 X1 + 41466.13802863147 X2+ 107.99258400093822 X3+\n",
            " 0.0171356997161638 X4+ 31691.691313553605 X5+ 552691.0233181857 X6+ 41249.32275203692 X7+\n",
            " 21222.144256109055 X8+ 119493.21585367358 X9+ 47.77502707057647 X10+ 60.21755653483342 X11\n",
            " -3550.9021573131968 X12+ 13.260221498272529 X13+ 29.00592838751345 X14\n",
            " -0.5481326027838804 X15+ [6151359.2627409]\n"
          ]
        }
      ]
    },
    {
      "cell_type": "markdown",
      "source": [
        "**Errores y r cuadrada**"
      ],
      "metadata": {
        "id": "U1F_mhLhvpW_"
      }
    },
    {
      "cell_type": "code",
      "source": [
        "mae = []\n",
        "r2 = []\n",
        "mae_l= metrics.mean_absolute_error(y, y_fit)\n",
        "mae.append(mae_l)\n",
        "r2_l=r2_score(y, y_fit)\n",
        "r2.append(r2_l)\n",
        "print('Error Medio Absoluto (MAE):', mae_l)\n",
        "print('Error Medio Cuadrado (RMSE):', np.sqrt(metrics.mean_squared_error(y, y_fit)))\n",
        "print('r2_score:', r2_l)"
      ],
      "metadata": {
        "colab": {
          "base_uri": "https://localhost:8080/"
        },
        "id": "9irKC_XLvvIn",
        "outputId": "ad3e1067-5179-45ce-b91d-07b6cda33514"
      },
      "execution_count": 72,
      "outputs": [
        {
          "output_type": "stream",
          "name": "stdout",
          "text": [
            "Error Medio Absoluto (MAE): 139090.35238662068\n",
            "Error Medio Cuadrado (RMSE): 216092.052373392\n",
            "r2_score: 0.6535308525095571\n"
          ]
        }
      ]
    },
    {
      "cell_type": "markdown",
      "source": [
        "# Regresión Multiple Polinomial:"
      ],
      "metadata": {
        "id": "m2prEPujvyc8"
      }
    },
    {
      "cell_type": "markdown",
      "source": [
        "**Visualización**"
      ],
      "metadata": {
        "id": "lPcJvdIjwQF5"
      }
    },
    {
      "cell_type": "code",
      "source": [
        "poly_features = PolynomialFeatures(degree=2, include_bias=False)\n",
        "X_poly = poly_features.fit_transform(X_train)\n",
        "lin_reg_pol = LinearRegression(fit_intercept=True)\n",
        "lin_reg_pol.fit(X_poly, y_train)\n",
        "lin_reg_pol.coef_, lin_reg_pol.intercept_\n",
        "#X_new=np.linspace(0, 10, 1000).reshape(1000, 1)\n",
        "X_new_poly = poly_features.transform(X)\n",
        "y_new = lin_reg_pol.predict(X_new_poly)\n",
        "#plt.plot(X, y, \"b.\")\n",
        "#plt.plot(X_new.reshape(-1), y_new.reshape(-1), \"r-\", linewidth=2, label=\"Predictions\")\n",
        "#plt.xlabel(\"$x_1$\", fontsize=18)\n",
        "#plt.ylabel(\"$y$\", rotation=0, fontsize=18)\n",
        "#plt.legend(loc=\"upper left\", fontsize=14)\n",
        "#plt.axis([0, 10, 0, 90]);"
      ],
      "metadata": {
        "id": "nN8D7eIYwUTm"
      },
      "execution_count": 73,
      "outputs": []
    },
    {
      "cell_type": "markdown",
      "source": [
        "**Ecuación**"
      ],
      "metadata": {
        "id": "E1vNU3m2yCFA"
      }
    },
    {
      "cell_type": "code",
      "source": [
        "print('El modelo es: Y =',lin_reg_pol.coef_[0][14],'X1^2 +',lin_reg_pol.coef_[0][1],'X2+',\n",
        "      lin_reg_pol.coef_[0][2],'X3+\\n',lin_reg_pol.coef_[0][3],'X4+',lin_reg_pol.coef_[0][4],'X5+',\n",
        "      lin_reg_pol.coef_[0][5],'X6+',lin_reg_pol.coef_[0][6],'X7+\\n',lin_reg_pol.coef_[0][7],'X8+',\n",
        "      lin_reg_pol.coef_[0][8],'X9+',lin_reg_pol.coef_[0][9],'X10+',lin_reg_pol.coef_[0][10],'X11\\n',\n",
        "      lin_reg_pol.coef_[0][11],'X12+',lin_reg_pol.coef_[0][12],'X13+',lin_reg_pol.coef_[0][13],'X14\\n',\n",
        "      lin_reg_pol.coef_[0][0],'X15+',lin_reg_pol.intercept_)"
      ],
      "metadata": {
        "colab": {
          "base_uri": "https://localhost:8080/"
        },
        "id": "bR96gSTIyIGY",
        "outputId": "e8f1e01a-c73f-48a9-d47d-3e81d0735946"
      },
      "execution_count": 74,
      "outputs": [
        {
          "output_type": "stream",
          "name": "stdout",
          "text": [
            "El modelo es: Y = -34.01063159901658 X1^2 + -1093307.2988890775 X2+ -456.44993232234583 X3+\n",
            " -27.868628841106222 X4+ -2074072.3849893238 X5+ -3954318.699668158 X6+ -288638.0258699706 X7+\n",
            " 558697.5702310547 X8+ 1098645.1037843083 X9+ -219.75841511336466 X10+ -382.0342717188405 X11\n",
            " -85963.09077123865 X12+ -2953.515948116647 X13+ 3999.657097775203 X14\n",
            " 933912.8339811402 X15+ [80227028.3104757]\n"
          ]
        }
      ]
    },
    {
      "cell_type": "markdown",
      "source": [
        "**Errores y r cuadrada**"
      ],
      "metadata": {
        "id": "ZteVQWOEy5H8"
      }
    },
    {
      "cell_type": "code",
      "source": [
        "mae_p= metrics.mean_absolute_error(y, y_new)\n",
        "mae.append(mae_p)\n",
        "r2_p=r2_score(y, y_new)\n",
        "r2.append(r2_p)\n",
        "print('Error medio Absoluto (MAE):', mae_p)\n",
        "print('Root Mean Squared Error:', np.sqrt(metrics.mean_squared_error(y, y_new)))\n",
        "print('r2_score',r2_p)"
      ],
      "metadata": {
        "colab": {
          "base_uri": "https://localhost:8080/"
        },
        "id": "1eEh1SGny73B",
        "outputId": "813ee4a2-a924-4686-a0cc-2ea656a17ddb"
      },
      "execution_count": 75,
      "outputs": [
        {
          "output_type": "stream",
          "name": "stdout",
          "text": [
            "Error medio Absoluto (MAE): 123003.07391385935\n",
            "Root Mean Squared Error: 183262.844181563\n",
            "r2_score 0.7508070085482581\n"
          ]
        }
      ]
    },
    {
      "cell_type": "markdown",
      "source": [
        "### Regresión con Ridge "
      ],
      "metadata": {
        "id": "QeKwaVw_y_Oy"
      }
    },
    {
      "cell_type": "markdown",
      "source": [
        "**Visualización**"
      ],
      "metadata": {
        "id": "2Em0i8IGzH2c"
      }
    },
    {
      "cell_type": "code",
      "source": [
        "linear_reg_r = Ridge(fit_intercept=True, alpha=5.0)\n",
        "linear_reg_r.fit(X_train, y_train)\n",
        "X_fit = X\n",
        "y_fit = linear_reg_r.predict(X_fit)\n",
        "#plt.scatter(X, y)\n",
        "#plt.plot(X_fit, y_fit, \"r-\", linewidth=2, label=\"Predictions\")\n",
        "#plt.xlabel(\"$X$\", fontsize=18)\n",
        "#plt.ylabel(\"$y$\", rotation=0, fontsize=18)\n",
        "#plt.legend(loc=\"upper left\", fontsize=14);"
      ],
      "metadata": {
        "id": "29N4INv6zMk3"
      },
      "execution_count": 76,
      "outputs": []
    },
    {
      "cell_type": "markdown",
      "source": [
        "**Ecuación**"
      ],
      "metadata": {
        "id": "TJLX3PYQzUj6"
      }
    },
    {
      "cell_type": "code",
      "source": [
        "print('El modelo es: Y =',linear_reg_r.coef_[0][0],'X1 +',linear_reg_r.coef_[0][1],'X2+',\n",
        "      linear_reg_r.coef_[0][2],'X3+\\n',linear_reg_r.coef_[0][3],'X4+',linear_reg_r.coef_[0][4],'X5+',\n",
        "      linear_reg_r.coef_[0][5],'X6+',linear_reg_r.coef_[0][6],'X7+\\n',linear_reg_r.coef_[0][7],'X8+',\n",
        "      linear_reg_r.coef_[0][8],'X9+',linear_reg_r.coef_[0][9],'X10+',linear_reg_r.coef_[0][10],'X11\\n',\n",
        "      linear_reg_r.coef_[0][11],'X12+',linear_reg_r.coef_[0][12],'X13+',linear_reg_r.coef_[0][13],'X14\\n',\n",
        "      linear_reg_r.coef_[0][14],'X15+',linear_reg_r.intercept_)"
      ],
      "metadata": {
        "colab": {
          "base_uri": "https://localhost:8080/"
        },
        "id": "MZ3epGmdzTZD",
        "outputId": "8d573f07-102e-4e64-bb30-75e76a9869f6"
      },
      "execution_count": 77,
      "outputs": [
        {
          "output_type": "stream",
          "name": "stdout",
          "text": [
            "El modelo es: Y = -38289.61705081894 X1 + 41391.43057376797 X2+ 108.0960896044976 X3+\n",
            " 0.016148636349877774 X4+ 31678.80565481804 X5+ 531220.1886360015 X6+ 42249.23999761328 X7+\n",
            " 21242.41983185391 X8+ 119381.75725604131 X9+ 47.93028118424304 X10+ 60.16580372982774 X11\n",
            " -3548.9395189878137 X12+ 13.536598656625149 X13+ 28.9064351916406 X14\n",
            " -0.5474879074647545 X15+ [6148385.38096804]\n"
          ]
        }
      ]
    },
    {
      "cell_type": "markdown",
      "source": [
        "**Errores y r cuadrada**"
      ],
      "metadata": {
        "id": "PfUdr_X-zitm"
      }
    },
    {
      "cell_type": "code",
      "source": [
        "mae_lr= metrics.mean_absolute_error(y, y_fit)\n",
        "mae.append(mae_lr)\n",
        "r2_lr=r2_score(y, y_fit)\n",
        "r2.append(r2_lr)\n",
        "\n",
        "print('Error Medio Absoluto (MAE):', mae_lr)\n",
        "print('Error Medio Cuadrado (RMSE):', np.sqrt(metrics.mean_squared_error(y, y_fit)))\n",
        "print('r2_score:',r2_lr)"
      ],
      "metadata": {
        "colab": {
          "base_uri": "https://localhost:8080/"
        },
        "id": "LtUlZTEsznJU",
        "outputId": "156784a4-5e60-403a-e200-abd10f2b9805"
      },
      "execution_count": 78,
      "outputs": [
        {
          "output_type": "stream",
          "name": "stdout",
          "text": [
            "Error Medio Absoluto (MAE): 139095.68762456687\n",
            "Error Medio Cuadrado (RMSE): 216115.18092831492\n",
            "r2_score: 0.6534566826411484\n"
          ]
        }
      ]
    },
    {
      "cell_type": "markdown",
      "source": [
        "### Regresión con Lasso"
      ],
      "metadata": {
        "id": "-2HlG9q_zvUT"
      }
    },
    {
      "cell_type": "markdown",
      "source": [
        "**Visualización**"
      ],
      "metadata": {
        "id": "ZktolEqYzxrA"
      }
    },
    {
      "cell_type": "code",
      "source": [
        "linear_reg_r = Lasso(fit_intercept=True, alpha=5.0)\n",
        "linear_reg_r.fit(X_train, y_train)\n",
        "X_fit = X\n",
        "y_fit = linear_reg_r.predict(X_fit)\n",
        "#plt.scatter(X, y)\n",
        "#plt.plot(X_fit, y_fit, \"r-\", linewidth=2, label=\"Predictions\")\n",
        "#plt.xlabel(\"$X$\", fontsize=18)\n",
        "#plt.ylabel(\"$y$\", rotation=0, fontsize=18)\n",
        "#plt.legend(loc=\"upper left\", fontsize=14);"
      ],
      "metadata": {
        "colab": {
          "base_uri": "https://localhost:8080/"
        },
        "id": "AV8r2oG3z03P",
        "outputId": "4fbc803d-5019-4691-c922-3c46a90a6b01"
      },
      "execution_count": 79,
      "outputs": [
        {
          "output_type": "stream",
          "name": "stderr",
          "text": [
            "/usr/local/lib/python3.7/dist-packages/sklearn/linear_model/_coordinate_descent.py:648: ConvergenceWarning: Objective did not converge. You might want to increase the number of iterations, check the scale of the features or consider increasing regularisation. Duality gap: 4.053e+14, tolerance: 2.572e+11\n",
            "  coef_, l1_reg, l2_reg, X, y, max_iter, tol, rng, random, positive\n"
          ]
        }
      ]
    },
    {
      "cell_type": "markdown",
      "source": [
        "**Ecuación**"
      ],
      "metadata": {
        "id": "L7EU0Rlsz9uI"
      }
    },
    {
      "cell_type": "code",
      "source": [
        "print('El modelo es: Y =',linear_reg_r.coef_[0],'X1 +',linear_reg_r.coef_[1],'X2+',\n",
        "      linear_reg_r.coef_[2],'X3+\\n',linear_reg_r.coef_[3],'X4+',linear_reg_r.coef_[4],'X5+',\n",
        "      linear_reg_r.coef_[5],'X6+',linear_reg_r.coef_[6],'X7+\\n',linear_reg_r.coef_[7],'X8+',\n",
        "      linear_reg_r.coef_[8],'X9+',linear_reg_r.coef_[9],'X10+',linear_reg_r.coef_[10],'X11\\n',\n",
        "      linear_reg_r.coef_[11],'X12+',linear_reg_r.coef_[12],'X13+',linear_reg_r.coef_[13],'X14\\n',\n",
        "      linear_reg_r.coef_[14],'X15+',linear_reg_r.intercept_)"
      ],
      "metadata": {
        "colab": {
          "base_uri": "https://localhost:8080/"
        },
        "id": "b7T9G8dpz-2G",
        "outputId": "9e45c9f4-26c9-44f1-b1f9-642898049afc"
      },
      "execution_count": 80,
      "outputs": [
        {
          "output_type": "stream",
          "name": "stdout",
          "text": [
            "El modelo es: Y = -38194.45323514413 X1 + 41444.73179048333 X2+ 293.47344248970586 X3+\n",
            " 0.017098112104736083 X4+ 31668.940317932655 X5+ 551941.4456966016 X6+ 41277.53601100818 X7+\n",
            " 21208.37395949508 X8+ 119486.32302411212 X9+ -137.68247706078557 X10+ -125.25384089606658 X11\n",
            " -3550.6416260663295 X12+ 13.273343865783689 X13+ 29.002935373322494 X14\n",
            " -0.5481499620024363 X15+ [6150963.51853761]\n"
          ]
        }
      ]
    },
    {
      "cell_type": "markdown",
      "source": [
        "**Errores y r cuadrada**"
      ],
      "metadata": {
        "id": "6Rw5n_R61jmG"
      }
    },
    {
      "cell_type": "code",
      "source": [
        "mae_ll= metrics.mean_absolute_error(y, y_fit)\n",
        "mae.append(mae_ll)\n",
        "r2_ll=r2_score(y, y_fit)\n",
        "r2.append(r2_ll)\n",
        "\n",
        "print('Error Medio Absoluto (MAE):', mae_ll)\n",
        "print('Error Medio Cuadrado (RMSE):', np.sqrt(metrics.mean_squared_error(y, y_fit)))\n",
        "print('r2_score:',r2_ll)"
      ],
      "metadata": {
        "colab": {
          "base_uri": "https://localhost:8080/"
        },
        "id": "T_A_Yx971mB_",
        "outputId": "d3646cab-5304-4847-976b-398288c4959a"
      },
      "execution_count": 81,
      "outputs": [
        {
          "output_type": "stream",
          "name": "stdout",
          "text": [
            "Error Medio Absoluto (MAE): 139090.64077751062\n",
            "Error Medio Cuadrado (RMSE): 216092.68444652998\n",
            "r2_score: 0.6535288256496228\n"
          ]
        }
      ]
    },
    {
      "cell_type": "markdown",
      "source": [
        "### Gráfica MAE y R2"
      ],
      "metadata": {
        "id": "iBNrr71F1-9K"
      }
    },
    {
      "cell_type": "code",
      "source": [
        "sns.set(rc={'figure.figsize':(9,6)})\n",
        "\n",
        "nombres=list()\n",
        "nombres=list()\n",
        "nombres.append('RL')\n",
        "nombres.append('RLP')\n",
        "nombres.append('Ridge')\n",
        "nombres.append('Lasso')\n",
        "\n",
        "plt.bar(nombres, mae)\n",
        "plt.show()"
      ],
      "metadata": {
        "colab": {
          "base_uri": "https://localhost:8080/",
          "height": 377
        },
        "id": "n9cW27yr2BaC",
        "outputId": "b1e50c35-02aa-42dc-870b-357564ec5e58"
      },
      "execution_count": 82,
      "outputs": [
        {
          "output_type": "display_data",
          "data": {
            "text/plain": [
              "<Figure size 648x432 with 1 Axes>"
            ],
            "image/png": "[encoded data removed]"
          },
          "metadata": {}
        }
      ]
    },
    {
      "cell_type": "code",
      "source": [
        "sns.set(rc={'figure.figsize':(9,6)})\n",
        "\n",
        "nombres=list()\n",
        "nombres=list()\n",
        "nombres.append('RL')\n",
        "nombres.append('RLP')\n",
        "nombres.append('Ridge')\n",
        "nombres.append('Lasso')\n",
        "\n",
        "plt.bar(nombres, r2)\n",
        "plt.show()"
      ],
      "metadata": {
        "colab": {
          "base_uri": "https://localhost:8080/",
          "height": 377
        },
        "id": "ssG_pyta4Qh8",
        "outputId": "7eb50ac4-960e-45d4-e9d7-d4ab40a13cfd"
      },
      "execution_count": 84,
      "outputs": [
        {
          "output_type": "display_data",
          "data": {
            "text/plain": [
              "<Figure size 648x432 with 1 Axes>"
            ],
            "image/png": "[encoded data removed]"
          },
          "metadata": {}
        }
      ]
    },
    {
      "cell_type": "markdown",
      "source": [
        "Explica tus resultados, que método conviene más a la empresa, ¿por que?, ¿que porcentajes de entrenamiento y evaluación?, ¿que error tienes?, ¿es bueno?, ¿cómo lo sabes?"
      ],
      "metadata": {
        "id": "8x8pjrCp4YJX"
      }
    },
    {
      "cell_type": "markdown",
      "source": [
        "De acuerdo al analisis de las métricas de MAE y R2 con un porcentaje del 90% de entrenamiento y 10% de evaluación, podemos concluir que el modelo de Regresión Lineal Polinomial es el que más se ajusta a los datos, tiene un bajo MAE y el mejor valor de R2 en comparación a los otros modelos. \n",
        "Entre Ridge y Lasso, los valores son muy cercanos con la diferencia que Lasso castiga más a los coeficientes de las variables en comparación con Ridge."
      ],
      "metadata": {
        "id": "XatcQjmT4ZIu"
      }
    }
  ]
}