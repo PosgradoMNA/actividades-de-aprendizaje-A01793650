{
  "nbformat": 4,
  "nbformat_minor": 0,
  "metadata": {
    "colab": {
      "name": "assignment01.ipynb",
      "provenance": [],
      "include_colab_link": true
    },
    "kernelspec": {
      "name": "python3",
      "display_name": "Python 3"
    },
    "language_info": {
      "name": "python"
    }
  },
  "cells": [
    {
      "cell_type": "markdown",
      "metadata": {
        "id": "view-in-github",
        "colab_type": "text"
      },
      "source": [
        "<a href=\"https://colab.research.google.com/github/PosgradoMNA/actividades-de-aprendizaje-A01793650/blob/main/IBM02/Modulo1.ipynb\" target=\"_parent\"><img src=\"https://colab.research.google.com/assets/colab-badge.svg\" alt=\"Open In Colab\"/></a>"
      ]
    },
    {
      "cell_type": "markdown",
      "source": [
        "### **Módulo 1**\n",
        "\n",
        "A01793650\n"
      ],
      "metadata": {
        "id": "5yDg2ffkL5v4"
      }
    },
    {
      "cell_type": "code",
      "source": [
        "import numpy as np"
      ],
      "metadata": {
        "id": "x9Ae3tsqPxis"
      },
      "execution_count": 1,
      "outputs": []
    },
    {
      "cell_type": "markdown",
      "source": [
        "#*Quiz*\n",
        "What is the result of the following operation: np.array([1,-1])*np.array([1,1])?"
      ],
      "metadata": {
        "id": "h2NAPHluPU7X"
      }
    },
    {
      "cell_type": "code",
      "source": [
        "for n in range(3):\n",
        "  print(n)"
      ],
      "metadata": {
        "colab": {
          "base_uri": "https://localhost:8080/"
        },
        "id": "24YfAH695SSc",
        "outputId": "35cfa29b-0f7a-405a-c5de-47c03cf2f097"
      },
      "execution_count": null,
      "outputs": [
        {
          "output_type": "stream",
          "name": "stdout",
          "text": [
            "0\n",
            "1\n",
            "2\n"
          ]
        }
      ]
    },
    {
      "cell_type": "markdown",
      "source": [
        "What does the following loop print?\n",
        "\n",
        "for n in range(3):\n",
        "\n",
        "print(n+1)\n",
        "\n",
        "\n"
      ],
      "metadata": {
        "id": "Uw3duSMH5YK0"
      }
    },
    {
      "cell_type": "code",
      "source": [
        "for n in range(3):\n",
        "  print(n+1)\n",
        "\n",
        "\n"
      ],
      "metadata": {
        "colab": {
          "base_uri": "https://localhost:8080/"
        },
        "id": "wvs7gV-H5YwP",
        "outputId": "76242268-ce19-4359-9ab4-324e032c4e75"
      },
      "execution_count": null,
      "outputs": [
        {
          "output_type": "stream",
          "name": "stdout",
          "text": [
            "1\n",
            "2\n",
            "3\n"
          ]
        }
      ]
    },
    {
      "cell_type": "markdown",
      "source": [
        "What is the output of the following few lines of code ?\n",
        "\n",
        "A=['1','2','3']\n",
        "\n",
        "for a in A:\n",
        "\n",
        "print(2*a)\n",
        "\n",
        "\n"
      ],
      "metadata": {
        "id": "Qnj7hM_a5fad"
      }
    },
    {
      "cell_type": "code",
      "source": [
        "A=['1','2','3']\n",
        "\n",
        "for a in A:\n",
        "  print(2*a)"
      ],
      "metadata": {
        "colab": {
          "base_uri": "https://localhost:8080/"
        },
        "id": "DsF64ACm5gF9",
        "outputId": "d6d70b66-279b-44f0-b59e-3519ab94de3b"
      },
      "execution_count": null,
      "outputs": [
        {
          "output_type": "stream",
          "name": "stdout",
          "text": [
            "11\n",
            "22\n",
            "33\n"
          ]
        }
      ]
    },
    {
      "cell_type": "markdown",
      "source": [
        "Consider the function add, what is the result of calling the following Add('1','1') (look closely at the return statement )\n",
        "\n",
        "def Add(x,y):\n",
        "\n",
        "z=y+x\n",
        "\n",
        "return(y)"
      ],
      "metadata": {
        "id": "iJgnt3y25lG1"
      }
    },
    {
      "cell_type": "code",
      "source": [
        "def Add(x,y):\n",
        "  z=y+x\n",
        "  return(y)\n",
        "Add('1','1')"
      ],
      "metadata": {
        "colab": {
          "base_uri": "https://localhost:8080/",
          "height": 35
        },
        "id": "IxV5cabr5loF",
        "outputId": "6064a271-38b7-41e7-f5fa-354f8ac19087"
      },
      "execution_count": null,
      "outputs": [
        {
          "output_type": "execute_result",
          "data": {
            "text/plain": [
              "'1'"
            ],
            "application/vnd.google.colaboratory.intrinsic+json": {
              "type": "string"
            }
          },
          "metadata": {},
          "execution_count": 36
        }
      ]
    },
    {
      "cell_type": "markdown",
      "source": [
        "Consider the class Points, what are the data attributes:\n",
        "\n",
        "class Points(object):\n",
        "\n",
        "def __init__(self,x,y):\n",
        "\n",
        "self.x=x\n",
        "\n",
        "self.y=y\n",
        "\n",
        "def print_point(self):\n",
        "\n",
        "print('x=',self.x,'y=',self.y)"
      ],
      "metadata": {
        "id": "ltEsBOMp50aG"
      }
    },
    {
      "cell_type": "code",
      "source": [
        "class Points(object):\n",
        "\n",
        "  def init(self,x,y):\n",
        "    self.x=x\n",
        "    self.y=y\n",
        "\n",
        "  def print_point(self):\n",
        "    print('x=',self.x,'y=',self.y)"
      ],
      "metadata": {
        "id": "xP85IrbS51P_"
      },
      "execution_count": null,
      "outputs": []
    },
    {
      "cell_type": "markdown",
      "source": [
        "What is the result of running the following lines of code ?\n",
        "class Points(object):\n",
        "\n",
        "def __init__(self,x,y):\n",
        "\n",
        "self.x=x\n",
        "\n",
        "self.y=y\n",
        "\n",
        "def print_point(self):\n",
        "\n",
        "print('x=',self.x,' y=',self.y)\n",
        "\n",
        "p1=Points(1,2)\n",
        "\n",
        "p1.print_point()"
      ],
      "metadata": {
        "id": "qbu3FXW06Bt1"
      }
    },
    {
      "cell_type": "code",
      "source": [
        "class Points(object):\n",
        "\n",
        "  def __init__(self,x,y):\n",
        "    self.x=x\n",
        "    self.y=y\n",
        "\n",
        "  def print_point(self):\n",
        "    print('x=',self.x,' y=',self.y)\n",
        "\n",
        "p1=Points(1,2)\n",
        "\n",
        "p1.print_point()"
      ],
      "metadata": {
        "colab": {
          "base_uri": "https://localhost:8080/"
        },
        "id": "flaVxyh46Ca9",
        "outputId": "d9a0550d-22d5-4c01-9767-b3c1ce7e8d06"
      },
      "execution_count": null,
      "outputs": [
        {
          "output_type": "stream",
          "name": "stdout",
          "text": [
            "x= 1  y= 2\n"
          ]
        }
      ]
    },
    {
      "cell_type": "markdown",
      "source": [
        "What is the result of running the following lines of code ?\n",
        "\n",
        "class Points(object):\n",
        "\n",
        "def __init__(self,x,y):\n",
        "\n",
        "self.x=x\n",
        "\n",
        "self.y=y\n",
        "\n",
        "def print_point(self):\n",
        "\n",
        "print('x=',self.x,' y=',self.y)\n",
        "\n",
        "p2=Points(1,2)\n",
        "\n",
        "p2.x=2\n",
        "\n",
        "p2.print_point()"
      ],
      "metadata": {
        "id": "8hUJQ3ZP6MPF"
      }
    },
    {
      "cell_type": "code",
      "source": [
        "class Points(object):\n",
        "\n",
        "  def __init__(self,x,y):\n",
        "\n",
        "    self.x=x\n",
        "\n",
        "    self.y=y\n",
        "\n",
        "  def print_point(self):\n",
        "\n",
        "    print('x=',self.x,' y=',self.y)\n",
        "\n",
        "p2=Points(1,2)\n",
        "\n",
        "p2.x=2\n",
        "\n",
        "p2.print_point()"
      ],
      "metadata": {
        "colab": {
          "base_uri": "https://localhost:8080/"
        },
        "id": "jQPodB616M9y",
        "outputId": "54dcb0b3-82cd-4186-c244-3fc2116d28c0"
      },
      "execution_count": null,
      "outputs": [
        {
          "output_type": "stream",
          "name": "stdout",
          "text": [
            "x= 2  y= 2\n"
          ]
        }
      ]
    },
    {
      "cell_type": "code",
      "source": [],
      "metadata": {
        "id": "1NPOY7qn6U3W"
      },
      "execution_count": null,
      "outputs": []
    }
  ]
}